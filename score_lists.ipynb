{
 "cells": [
  {
   "cell_type": "markdown",
   "id": "304e4bf4",
   "metadata": {},
   "source": [
    "For Ashley Test Scores we need to enter 3 scores :"
   ]
  },
  {
   "cell_type": "code",
   "execution_count": 1,
   "id": "84a5eb9e",
   "metadata": {},
   "outputs": [
    {
     "name": "stdout",
     "output_type": "stream",
     "text": [
      "Enter a score :100\n",
      "Enter a score :99\n",
      "Enter a score :95\n"
     ]
    },
    {
     "data": {
      "text/plain": [
       "[100.0, 99.0, 95.0]"
      ]
     },
     "execution_count": 1,
     "metadata": {},
     "output_type": "execute_result"
    }
   ],
   "source": [
    "a_list = []\n",
    "i=1\n",
    "while i<=3:\n",
    "    score=float(input(\"Enter a score :\"))\n",
    "    a_list.append(score)\n",
    "    i=i+1\n",
    "a_list"
   ]
  },
  {
   "cell_type": "markdown",
   "id": "419afaf3",
   "metadata": {},
   "source": [
    "For Barb's Score we need to enter 4 scores :"
   ]
  },
  {
   "cell_type": "code",
   "execution_count": 2,
   "id": "44e39551",
   "metadata": {},
   "outputs": [
    {
     "name": "stdout",
     "output_type": "stream",
     "text": [
      "Enter a score :85\n",
      "Enter a score :89\n",
      "Enter a score :92\n",
      "Enter a score :90\n"
     ]
    },
    {
     "data": {
      "text/plain": [
       "[85.0, 89.0, 92.0, 90.0]"
      ]
     },
     "execution_count": 2,
     "metadata": {},
     "output_type": "execute_result"
    }
   ],
   "source": [
    "b_list = []\n",
    "i=1\n",
    "while i<=4 :\n",
    "    score=float(input(\"Enter a score :\"))\n",
    "    b_list.append(score)\n",
    "    i=i+1\n",
    "b_list"
   ]
  },
  {
   "cell_type": "markdown",
   "id": "6f091e6c",
   "metadata": {},
   "source": [
    "For Carl's score we need to enter 3 scores :"
   ]
  },
  {
   "cell_type": "code",
   "execution_count": 3,
   "id": "aa663784",
   "metadata": {},
   "outputs": [
    {
     "name": "stdout",
     "output_type": "stream",
     "text": [
      "Enter a score :68\n",
      "Enter a score :87\n",
      "Enter a score :75\n"
     ]
    },
    {
     "data": {
      "text/plain": [
       "[68.0, 87.0, 75.0]"
      ]
     },
     "execution_count": 3,
     "metadata": {},
     "output_type": "execute_result"
    }
   ],
   "source": [
    "c_list = []\n",
    "i=1\n",
    "while i<=3:\n",
    "    score=float(input(\"Enter a score :\"))\n",
    "    c_list.append(score)\n",
    "    i=i+1\n",
    "c_list"
   ]
  },
  {
   "cell_type": "markdown",
   "id": "9b91e90b",
   "metadata": {},
   "source": [
    "Printing all the 3 members scores :"
   ]
  },
  {
   "cell_type": "code",
   "execution_count": 4,
   "id": "102f4b07",
   "metadata": {},
   "outputs": [
    {
     "data": {
      "text/plain": [
       "[[100.0, 99.0, 95.0], [85.0, 89.0, 92.0, 90.0], [68.0, 87.0, 75.0]]"
      ]
     },
     "execution_count": 4,
     "metadata": {},
     "output_type": "execute_result"
    }
   ],
   "source": [
    "all_scores = [a_list[:],b_list[:],c_list[:]]\n",
    "all_scores"
   ]
  },
  {
   "cell_type": "markdown",
   "id": "673cf761",
   "metadata": {},
   "source": [
    "Adding extra 3 points to all the scores :"
   ]
  },
  {
   "cell_type": "code",
   "execution_count": 5,
   "id": "17b01306",
   "metadata": {},
   "outputs": [
    {
     "data": {
      "text/plain": [
       "[[103.0, 102.0, 98.0], [88.0, 92.0, 95.0, 93.0], [71.0, 90.0, 78.0]]"
      ]
     },
     "execution_count": 5,
     "metadata": {},
     "output_type": "execute_result"
    }
   ],
   "source": [
    "for i in  all_scores:\n",
    "    for j in range(len(i)):\n",
    "        i[j]=i[j]+3\n",
    "all_scores"
   ]
  },
  {
   "cell_type": "code",
   "execution_count": 7,
   "id": "36633bce",
   "metadata": {},
   "outputs": [
    {
     "data": {
      "text/plain": [
       "[103.0, 95.0, 90.0]"
      ]
     },
     "execution_count": 7,
     "metadata": {},
     "output_type": "execute_result"
    }
   ],
   "source": [
    "max_scores=[]\n",
    "for i in all_scores:\n",
    "    score=max(i)\n",
    "    max_scores.append(score)\n",
    "max_scores"
   ]
  },
  {
   "cell_type": "markdown",
   "id": "5f0983d7",
   "metadata": {},
   "source": [
    "Original Scores :"
   ]
  },
  {
   "cell_type": "code",
   "execution_count": 9,
   "id": "92ffe79e",
   "metadata": {},
   "outputs": [
    {
     "name": "stdout",
     "output_type": "stream",
     "text": [
      "Ashley's Scores : [100.0, 99.0, 95.0]\n",
      "Barb's   Scores : [85.0, 89.0, 92.0, 90.0]\n",
      "Carl's   Scores : [68.0, 87.0, 75.0]\n"
     ]
    }
   ],
   "source": [
    "print(\"Ashley's Scores :\",a_list)\n",
    "print(\"Barb's   Scores :\",b_list)\n",
    "print(\"Carl's   Scores :\",c_list)"
   ]
  },
  {
   "cell_type": "markdown",
   "id": "2b4cfcae",
   "metadata": {},
   "source": [
    "Final Result :"
   ]
  },
  {
   "cell_type": "code",
   "execution_count": 10,
   "id": "39564be0",
   "metadata": {},
   "outputs": [
    {
     "name": "stdout",
     "output_type": "stream",
     "text": [
      "Original Scores :\n",
      "Ashley's Scores : [100.0, 99.0, 95.0]\n",
      "Barb's   Scores : [85.0, 89.0, 92.0, 90.0]\n",
      "Carl's   Scores : [68.0, 87.0, 75.0]\n",
      "All Scores after Updation of 3 marks: [[103.0, 102.0, 98.0], [88.0, 92.0, 95.0, 93.0], [71.0, 90.0, 78.0]]\n",
      "Maximum Scores : [103.0, 95.0, 90.0]\n"
     ]
    }
   ],
   "source": [
    "## Original Scores :\n",
    "print(\"Original Scores :\")\n",
    "print(\"Ashley's Scores :\",a_list)\n",
    "print(\"Barb's   Scores :\",b_list)\n",
    "print(\"Carl's   Scores :\",c_list)\n",
    "print(\"All Scores after Updation of 3 marks:\",all_scores)\n",
    "print(\"Maximum Scores :\",max_scores)"
   ]
  },
  {
   "cell_type": "code",
   "execution_count": null,
   "id": "410cc4a1",
   "metadata": {},
   "outputs": [],
   "source": []
  }
 ],
 "metadata": {
  "kernelspec": {
   "display_name": "Python 3 (ipykernel)",
   "language": "python",
   "name": "python3"
  },
  "language_info": {
   "codemirror_mode": {
    "name": "ipython",
    "version": 3
   },
   "file_extension": ".py",
   "mimetype": "text/x-python",
   "name": "python",
   "nbconvert_exporter": "python",
   "pygments_lexer": "ipython3",
   "version": "3.9.7"
  }
 },
 "nbformat": 4,
 "nbformat_minor": 5
}
