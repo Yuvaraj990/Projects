{
 "cells": [
  {
   "cell_type": "code",
   "execution_count": 1,
   "id": "881ff9db",
   "metadata": {},
   "outputs": [],
   "source": [
    "import pandas as pd\n",
    "import numpy as np\n",
    "import matplotlib.pyplot as plt\n",
    "%matplotlib inline"
   ]
  },
  {
   "cell_type": "code",
   "execution_count": 3,
   "id": "8f8958bb",
   "metadata": {},
   "outputs": [],
   "source": [
    "h1n1train=pd.read_csv('h1n1train.csv')"
   ]
  },
  {
   "cell_type": "code",
   "execution_count": 4,
   "id": "de47d1b9",
   "metadata": {},
   "outputs": [
    {
     "data": {
      "text/plain": [
       "(26707, 36)"
      ]
     },
     "execution_count": 4,
     "metadata": {},
     "output_type": "execute_result"
    }
   ],
   "source": [
    "h1n1train.shape"
   ]
  },
  {
   "cell_type": "code",
   "execution_count": 5,
   "id": "1adb2544",
   "metadata": {},
   "outputs": [],
   "source": [
    "h1n1test=pd.read_csv('h1n1test.csv')"
   ]
  },
  {
   "cell_type": "code",
   "execution_count": 6,
   "id": "f976bf88",
   "metadata": {},
   "outputs": [
    {
     "data": {
      "text/plain": [
       "(26708, 36)"
      ]
     },
     "execution_count": 6,
     "metadata": {},
     "output_type": "execute_result"
    }
   ],
   "source": [
    "h1n1test.shape"
   ]
  },
  {
   "cell_type": "code",
   "execution_count": 7,
   "id": "c1213a55",
   "metadata": {},
   "outputs": [],
   "source": [
    "combinedf=pd.concat([h1n1train,h1n1test],axis=0)"
   ]
  },
  {
   "cell_type": "code",
   "execution_count": 8,
   "id": "22814509",
   "metadata": {},
   "outputs": [
    {
     "data": {
      "text/plain": [
       "(53415, 36)"
      ]
     },
     "execution_count": 8,
     "metadata": {},
     "output_type": "execute_result"
    }
   ],
   "source": [
    "combinedf.shape"
   ]
  },
  {
   "cell_type": "code",
   "execution_count": 9,
   "id": "428c644b",
   "metadata": {},
   "outputs": [
    {
     "data": {
      "text/plain": [
       "Index(['respondent_id', 'h1n1_concern', 'h1n1_knowledge',\n",
       "       'behavioral_antiviral_meds', 'behavioral_avoidance',\n",
       "       'behavioral_face_mask', 'behavioral_wash_hands',\n",
       "       'behavioral_large_gatherings', 'behavioral_outside_home',\n",
       "       'behavioral_touch_face', 'doctor_recc_h1n1', 'doctor_recc_seasonal',\n",
       "       'chronic_med_condition', 'child_under_6_months', 'health_worker',\n",
       "       'health_insurance', 'opinion_h1n1_vacc_effective', 'opinion_h1n1_risk',\n",
       "       'opinion_h1n1_sick_from_vacc', 'opinion_seas_vacc_effective',\n",
       "       'opinion_seas_risk', 'opinion_seas_sick_from_vacc', 'age_group',\n",
       "       'education', 'race', 'sex', 'income_poverty', 'marital_status',\n",
       "       'rent_or_own', 'employment_status', 'hhs_geo_region', 'census_msa',\n",
       "       'household_adults', 'household_children', 'employment_industry',\n",
       "       'employment_occupation'],\n",
       "      dtype='object')"
      ]
     },
     "execution_count": 9,
     "metadata": {},
     "output_type": "execute_result"
    }
   ],
   "source": [
    "combinedf.columns"
   ]
  },
  {
   "cell_type": "code",
   "execution_count": 10,
   "id": "40aedb6c",
   "metadata": {},
   "outputs": [
    {
     "data": {
      "text/html": [
       "<div>\n",
       "<style scoped>\n",
       "    .dataframe tbody tr th:only-of-type {\n",
       "        vertical-align: middle;\n",
       "    }\n",
       "\n",
       "    .dataframe tbody tr th {\n",
       "        vertical-align: top;\n",
       "    }\n",
       "\n",
       "    .dataframe thead th {\n",
       "        text-align: right;\n",
       "    }\n",
       "</style>\n",
       "<table border=\"1\" class=\"dataframe\">\n",
       "  <thead>\n",
       "    <tr style=\"text-align: right;\">\n",
       "      <th></th>\n",
       "      <th>respondent_id</th>\n",
       "      <th>h1n1_concern</th>\n",
       "      <th>h1n1_knowledge</th>\n",
       "      <th>behavioral_antiviral_meds</th>\n",
       "      <th>behavioral_avoidance</th>\n",
       "      <th>behavioral_face_mask</th>\n",
       "      <th>behavioral_wash_hands</th>\n",
       "      <th>behavioral_large_gatherings</th>\n",
       "      <th>behavioral_outside_home</th>\n",
       "      <th>behavioral_touch_face</th>\n",
       "      <th>...</th>\n",
       "      <th>income_poverty</th>\n",
       "      <th>marital_status</th>\n",
       "      <th>rent_or_own</th>\n",
       "      <th>employment_status</th>\n",
       "      <th>hhs_geo_region</th>\n",
       "      <th>census_msa</th>\n",
       "      <th>household_adults</th>\n",
       "      <th>household_children</th>\n",
       "      <th>employment_industry</th>\n",
       "      <th>employment_occupation</th>\n",
       "    </tr>\n",
       "  </thead>\n",
       "  <tbody>\n",
       "    <tr>\n",
       "      <th>0</th>\n",
       "      <td>0</td>\n",
       "      <td>1.0</td>\n",
       "      <td>0.0</td>\n",
       "      <td>0.0</td>\n",
       "      <td>0.0</td>\n",
       "      <td>0.0</td>\n",
       "      <td>0.0</td>\n",
       "      <td>0.0</td>\n",
       "      <td>1.0</td>\n",
       "      <td>1.0</td>\n",
       "      <td>...</td>\n",
       "      <td>Below Poverty</td>\n",
       "      <td>Not Married</td>\n",
       "      <td>Own</td>\n",
       "      <td>Not in Labor Force</td>\n",
       "      <td>oxchjgsf</td>\n",
       "      <td>Non-MSA</td>\n",
       "      <td>0.0</td>\n",
       "      <td>0.0</td>\n",
       "      <td>NaN</td>\n",
       "      <td>NaN</td>\n",
       "    </tr>\n",
       "    <tr>\n",
       "      <th>1</th>\n",
       "      <td>1</td>\n",
       "      <td>3.0</td>\n",
       "      <td>2.0</td>\n",
       "      <td>0.0</td>\n",
       "      <td>1.0</td>\n",
       "      <td>0.0</td>\n",
       "      <td>1.0</td>\n",
       "      <td>0.0</td>\n",
       "      <td>1.0</td>\n",
       "      <td>1.0</td>\n",
       "      <td>...</td>\n",
       "      <td>Below Poverty</td>\n",
       "      <td>Not Married</td>\n",
       "      <td>Rent</td>\n",
       "      <td>Employed</td>\n",
       "      <td>bhuqouqj</td>\n",
       "      <td>MSA, Not Principle  City</td>\n",
       "      <td>0.0</td>\n",
       "      <td>0.0</td>\n",
       "      <td>pxcmvdjn</td>\n",
       "      <td>xgwztkwe</td>\n",
       "    </tr>\n",
       "    <tr>\n",
       "      <th>2</th>\n",
       "      <td>2</td>\n",
       "      <td>1.0</td>\n",
       "      <td>1.0</td>\n",
       "      <td>0.0</td>\n",
       "      <td>1.0</td>\n",
       "      <td>0.0</td>\n",
       "      <td>0.0</td>\n",
       "      <td>0.0</td>\n",
       "      <td>0.0</td>\n",
       "      <td>0.0</td>\n",
       "      <td>...</td>\n",
       "      <td>&lt;= $75,000, Above Poverty</td>\n",
       "      <td>Not Married</td>\n",
       "      <td>Own</td>\n",
       "      <td>Employed</td>\n",
       "      <td>qufhixun</td>\n",
       "      <td>MSA, Not Principle  City</td>\n",
       "      <td>2.0</td>\n",
       "      <td>0.0</td>\n",
       "      <td>rucpziij</td>\n",
       "      <td>xtkaffoo</td>\n",
       "    </tr>\n",
       "    <tr>\n",
       "      <th>3</th>\n",
       "      <td>3</td>\n",
       "      <td>1.0</td>\n",
       "      <td>1.0</td>\n",
       "      <td>0.0</td>\n",
       "      <td>1.0</td>\n",
       "      <td>0.0</td>\n",
       "      <td>1.0</td>\n",
       "      <td>1.0</td>\n",
       "      <td>0.0</td>\n",
       "      <td>0.0</td>\n",
       "      <td>...</td>\n",
       "      <td>Below Poverty</td>\n",
       "      <td>Not Married</td>\n",
       "      <td>Rent</td>\n",
       "      <td>Not in Labor Force</td>\n",
       "      <td>lrircsnp</td>\n",
       "      <td>MSA, Principle City</td>\n",
       "      <td>0.0</td>\n",
       "      <td>0.0</td>\n",
       "      <td>NaN</td>\n",
       "      <td>NaN</td>\n",
       "    </tr>\n",
       "    <tr>\n",
       "      <th>4</th>\n",
       "      <td>4</td>\n",
       "      <td>2.0</td>\n",
       "      <td>1.0</td>\n",
       "      <td>0.0</td>\n",
       "      <td>1.0</td>\n",
       "      <td>0.0</td>\n",
       "      <td>1.0</td>\n",
       "      <td>1.0</td>\n",
       "      <td>0.0</td>\n",
       "      <td>1.0</td>\n",
       "      <td>...</td>\n",
       "      <td>&lt;= $75,000, Above Poverty</td>\n",
       "      <td>Married</td>\n",
       "      <td>Own</td>\n",
       "      <td>Employed</td>\n",
       "      <td>qufhixun</td>\n",
       "      <td>MSA, Not Principle  City</td>\n",
       "      <td>1.0</td>\n",
       "      <td>0.0</td>\n",
       "      <td>wxleyezf</td>\n",
       "      <td>emcorrxb</td>\n",
       "    </tr>\n",
       "  </tbody>\n",
       "</table>\n",
       "<p>5 rows × 36 columns</p>\n",
       "</div>"
      ],
      "text/plain": [
       "   respondent_id  h1n1_concern  h1n1_knowledge  behavioral_antiviral_meds  \\\n",
       "0              0           1.0             0.0                        0.0   \n",
       "1              1           3.0             2.0                        0.0   \n",
       "2              2           1.0             1.0                        0.0   \n",
       "3              3           1.0             1.0                        0.0   \n",
       "4              4           2.0             1.0                        0.0   \n",
       "\n",
       "   behavioral_avoidance  behavioral_face_mask  behavioral_wash_hands  \\\n",
       "0                   0.0                   0.0                    0.0   \n",
       "1                   1.0                   0.0                    1.0   \n",
       "2                   1.0                   0.0                    0.0   \n",
       "3                   1.0                   0.0                    1.0   \n",
       "4                   1.0                   0.0                    1.0   \n",
       "\n",
       "   behavioral_large_gatherings  behavioral_outside_home  \\\n",
       "0                          0.0                      1.0   \n",
       "1                          0.0                      1.0   \n",
       "2                          0.0                      0.0   \n",
       "3                          1.0                      0.0   \n",
       "4                          1.0                      0.0   \n",
       "\n",
       "   behavioral_touch_face  ...             income_poverty  marital_status  \\\n",
       "0                    1.0  ...              Below Poverty     Not Married   \n",
       "1                    1.0  ...              Below Poverty     Not Married   \n",
       "2                    0.0  ...  <= $75,000, Above Poverty     Not Married   \n",
       "3                    0.0  ...              Below Poverty     Not Married   \n",
       "4                    1.0  ...  <= $75,000, Above Poverty         Married   \n",
       "\n",
       "   rent_or_own   employment_status  hhs_geo_region                census_msa  \\\n",
       "0          Own  Not in Labor Force        oxchjgsf                   Non-MSA   \n",
       "1         Rent            Employed        bhuqouqj  MSA, Not Principle  City   \n",
       "2          Own            Employed        qufhixun  MSA, Not Principle  City   \n",
       "3         Rent  Not in Labor Force        lrircsnp       MSA, Principle City   \n",
       "4          Own            Employed        qufhixun  MSA, Not Principle  City   \n",
       "\n",
       "   household_adults  household_children  employment_industry  \\\n",
       "0               0.0                 0.0                  NaN   \n",
       "1               0.0                 0.0             pxcmvdjn   \n",
       "2               2.0                 0.0             rucpziij   \n",
       "3               0.0                 0.0                  NaN   \n",
       "4               1.0                 0.0             wxleyezf   \n",
       "\n",
       "   employment_occupation  \n",
       "0                    NaN  \n",
       "1               xgwztkwe  \n",
       "2               xtkaffoo  \n",
       "3                    NaN  \n",
       "4               emcorrxb  \n",
       "\n",
       "[5 rows x 36 columns]"
      ]
     },
     "execution_count": 10,
     "metadata": {},
     "output_type": "execute_result"
    }
   ],
   "source": [
    "combinedf.head()"
   ]
  },
  {
   "cell_type": "code",
   "execution_count": 11,
   "id": "66ffb396",
   "metadata": {
    "scrolled": true
   },
   "outputs": [
    {
     "data": {
      "text/plain": [
       "employment_occupation          26896\n",
       "employment_industry            26605\n",
       "health_insurance               24502\n",
       "income_poverty                  8920\n",
       "doctor_recc_h1n1                4320\n",
       "doctor_recc_seasonal            4320\n",
       "rent_or_own                     4078\n",
       "employment_status               2934\n",
       "marital_status                  2850\n",
       "education                       2814\n",
       "chronic_med_condition           1903\n",
       "child_under_6_months            1633\n",
       "health_worker                   1593\n",
       "opinion_seas_sick_from_vacc     1058\n",
       "opinion_seas_risk               1013\n",
       "opinion_seas_vacc_effective      914\n",
       "opinion_h1n1_vacc_effective      789\n",
       "opinion_h1n1_sick_from_vacc      770\n",
       "opinion_h1n1_risk                768\n",
       "household_children               474\n",
       "household_adults                 474\n",
       "behavioral_avoidance             421\n",
       "behavioral_touch_face            256\n",
       "h1n1_knowledge                   238\n",
       "h1n1_concern                     177\n",
       "behavioral_outside_home          164\n",
       "behavioral_large_gatherings      159\n",
       "behavioral_antiviral_meds        150\n",
       "behavioral_wash_hands             82\n",
       "behavioral_face_mask              38\n",
       "hhs_geo_region                     0\n",
       "census_msa                         0\n",
       "sex                                0\n",
       "race                               0\n",
       "age_group                          0\n",
       "respondent_id                      0\n",
       "dtype: int64"
      ]
     },
     "execution_count": 11,
     "metadata": {},
     "output_type": "execute_result"
    }
   ],
   "source": [
    "combinedf.isnull().sum().sort_values(ascending=False)"
   ]
  },
  {
   "cell_type": "code",
   "execution_count": 12,
   "id": "c8873613",
   "metadata": {},
   "outputs": [
    {
     "name": "stdout",
     "output_type": "stream",
     "text": [
      "2.0    21318\n",
      "1.0    16311\n",
      "3.0     9114\n",
      "0.0     6495\n",
      "NaN      177\n",
      "Name: h1n1_concern, dtype: int64\n",
      "1.0    29227\n",
      "2.0    19002\n",
      "0.0     4948\n",
      "NaN      238\n",
      "Name: h1n1_knowledge, dtype: int64\n",
      "0.0    50642\n",
      "1.0     2623\n",
      "NaN      150\n",
      "Name: behavioral_antiviral_meds, dtype: int64\n",
      "1.0    38564\n",
      "0.0    14430\n",
      "NaN      421\n",
      "Name: behavioral_avoidance, dtype: int64\n",
      "0.0    49687\n",
      "1.0     3690\n",
      "NaN       38\n",
      "Name: behavioral_face_mask, dtype: int64\n",
      "1.0    44045\n",
      "0.0     9288\n",
      "NaN       82\n",
      "Name: behavioral_wash_hands, dtype: int64\n",
      "0.0    34346\n",
      "1.0    18910\n",
      "NaN      159\n",
      "Name: behavioral_large_gatherings, dtype: int64\n",
      "0.0    35291\n",
      "1.0    17960\n",
      "NaN      164\n",
      "Name: behavioral_outside_home, dtype: int64\n",
      "1.0    36175\n",
      "0.0    16984\n",
      "NaN      256\n",
      "Name: behavioral_touch_face, dtype: int64\n",
      "0.0    38221\n",
      "1.0    10874\n",
      "NaN     4320\n",
      "Name: doctor_recc_h1n1, dtype: int64\n",
      "0.0    32813\n",
      "1.0    16282\n",
      "NaN     4320\n",
      "Name: doctor_recc_seasonal, dtype: int64\n",
      "0.0    36978\n",
      "1.0    14534\n",
      "NaN     1903\n",
      "Name: chronic_med_condition, dtype: int64\n",
      "0.0    47409\n",
      "1.0     4373\n",
      "NaN     1633\n",
      "Name: child_under_6_months, dtype: int64\n",
      "0.0    46033\n",
      "1.0     5789\n",
      "NaN     1593\n",
      "Name: health_worker, dtype: int64\n",
      "1.0    25554\n",
      "NaN    24502\n",
      "0.0     3359\n",
      "Name: health_insurance, dtype: int64\n",
      "4.0    23417\n",
      "5.0    14231\n",
      "3.0     9513\n",
      "2.0     3658\n",
      "1.0     1807\n",
      "NaN      789\n",
      "Name: opinion_h1n1_vacc_effective, dtype: int64\n",
      "2.0    19861\n",
      "1.0    16346\n",
      "4.0    10659\n",
      "5.0     3434\n",
      "3.0     2347\n",
      "NaN      768\n",
      "Name: opinion_h1n1_risk, dtype: int64\n",
      "2.0    18306\n",
      "1.0    17933\n",
      "4.0    11760\n",
      "5.0     4337\n",
      "NaN      770\n",
      "3.0      309\n",
      "Name: opinion_h1n1_sick_from_vacc, dtype: int64\n",
      "4.0    23131\n",
      "5.0    19970\n",
      "2.0     4490\n",
      "3.0     2537\n",
      "1.0     2373\n",
      "NaN      914\n",
      "Name: opinion_seas_vacc_effective, dtype: int64\n",
      "2.0    18026\n",
      "4.0    15239\n",
      "1.0    11913\n",
      "5.0     5811\n",
      "3.0     1413\n",
      "NaN     1013\n",
      "Name: opinion_seas_risk, dtype: int64\n",
      "1.0    23447\n",
      "2.0    15422\n",
      "4.0     9799\n",
      "5.0     3503\n",
      "NaN     1058\n",
      "3.0      186\n",
      "Name: opinion_seas_sick_from_vacc, dtype: int64\n",
      "65+ Years        13561\n",
      "55 - 64 Years    11092\n",
      "45 - 54 Years    10495\n",
      "18 - 34 Years    10449\n",
      "35 - 44 Years     7818\n",
      "Name: age_group, dtype: int64\n",
      "College Graduate    20283\n",
      "Some College        14123\n",
      "12 Years            11496\n",
      "< 12 Years           4699\n",
      "NaN                  2814\n",
      "Name: education, dtype: int64\n",
      "White                42523\n",
      "Black                 4292\n",
      "Hispanic              3458\n",
      "Other or Multiple     3142\n",
      "Name: race, dtype: int64\n",
      "Female    31692\n",
      "Male      21723\n",
      "Name: sex, dtype: int64\n",
      "<= $75,000, Above Poverty    25552\n",
      "> $75,000                    13673\n",
      "NaN                           8920\n",
      "Below Poverty                 5270\n",
      "Name: income_poverty, dtype: int64\n",
      "Married        27103\n",
      "Not Married    23462\n",
      "NaN             2850\n",
      "Name: marital_status, dtype: int64\n",
      "Own     37457\n",
      "Rent    11880\n",
      "NaN      4078\n",
      "Name: rent_or_own, dtype: int64\n",
      "Employed              27192\n",
      "Not in Labor Force    20323\n",
      "Unemployed             2966\n",
      "NaN                    2934\n",
      "Name: employment_status, dtype: int64\n",
      "lzgpxyit    8660\n",
      "fpwskwrf    6506\n",
      "qufhixun    6166\n",
      "oxchjgsf    5846\n",
      "bhuqouqj    5713\n",
      "kbazzjca    5702\n",
      "mlyzmhmf    4426\n",
      "lrircsnp    4100\n",
      "atmpeygn    4019\n",
      "dqpwygqj    2277\n",
      "Name: hhs_geo_region, dtype: int64\n",
      "MSA, Not Principle  City    23571\n",
      "MSA, Principle City         15669\n",
      "Non-MSA                     14175\n",
      "Name: census_msa, dtype: int64\n",
      "1.0    29007\n",
      "0.0    15999\n",
      "2.0     5673\n",
      "3.0     2262\n",
      "NaN      474\n",
      "Name: household_adults, dtype: int64\n",
      "0.0    37243\n",
      "1.0     6403\n",
      "2.0     5744\n",
      "3.0     3551\n",
      "NaN      474\n",
      "Name: household_children, dtype: int64\n",
      "NaN         26605\n",
      "fcxhlnwr     4952\n",
      "wxleyezf     3609\n",
      "ldnlellj     2455\n",
      "pxcmvdjn     2115\n",
      "arjwrbjb     1756\n",
      "atmlpfrs     1748\n",
      "xicduogh     1698\n",
      "mfikgejo     1263\n",
      "vjjrobsf     1094\n",
      "rucpziij     1061\n",
      "xqicxuve     1038\n",
      "saaquncn      676\n",
      "cfqqtusy      629\n",
      "nduyfdeo      578\n",
      "mcubkhph      537\n",
      "wlfvacwt      427\n",
      "dotnnunm      421\n",
      "haxffmxo      308\n",
      "msuufmds      256\n",
      "phxvnwax      170\n",
      "qnlwzans       19\n",
      "Name: employment_industry, dtype: int64\n",
      "NaN         26896\n",
      "xtkaffoo     3526\n",
      "mxkfnird     3070\n",
      "emcorrxb     2554\n",
      "cmhcxjea     2471\n",
      "xgwztkwe     2220\n",
      "hfxkjkmi     1491\n",
      "qxajmpny     1047\n",
      "xqwwgdyp      960\n",
      "uqqtjvyb      953\n",
      "kldqjyjy      915\n",
      "tfqavkke      790\n",
      "ccgxvspp      709\n",
      "ukymxvdu      701\n",
      "oijqvulv      690\n",
      "vlluhbov      679\n",
      "bxpfxfdn      662\n",
      "haliazsg      596\n",
      "rcertsgn      573\n",
      "dlvbwzss      472\n",
      "xzmlyyjv      464\n",
      "hodpvpew      461\n",
      "dcjcmpih      309\n",
      "pvmttkik      206\n",
      "Name: employment_occupation, dtype: int64\n"
     ]
    }
   ],
   "source": [
    "for col in combinedf.drop('respondent_id',axis=1).columns:\n",
    "    freq=combinedf[col].value_counts(dropna=False)\n",
    "    print(freq)"
   ]
  },
  {
   "cell_type": "code",
   "execution_count": 13,
   "id": "ef147b1f",
   "metadata": {},
   "outputs": [
    {
     "name": "stdout",
     "output_type": "stream",
     "text": [
      "employment_occupation-missing %= 50.35289712627539\n",
      "employment_industry-missing%= 49.8081063371712\n",
      "health_insurance-missing%= 45.871010015913136\n"
     ]
    }
   ],
   "source": [
    "print('employment_occupation-missing %=',(26896/53415)*100)\n",
    "print('employment_industry-missing%=',(26605/53415)*100)\n",
    "print('health_insurance-missing%=', (24502/53415)*100)"
   ]
  },
  {
   "cell_type": "code",
   "execution_count": 14,
   "id": "e754cd6f",
   "metadata": {},
   "outputs": [],
   "source": [
    "combinedf=combinedf.drop(['employment_occupation','employment_industry'],axis=1)"
   ]
  },
  {
   "cell_type": "code",
   "execution_count": 15,
   "id": "6e2e4b7f",
   "metadata": {},
   "outputs": [],
   "source": [
    "# missing value imputation by Knn-method"
   ]
  },
  {
   "cell_type": "code",
   "execution_count": 16,
   "id": "22e8ab3d",
   "metadata": {},
   "outputs": [],
   "source": [
    "from sklearn.preprocessing import LabelEncoder"
   ]
  },
  {
   "cell_type": "code",
   "execution_count": 17,
   "id": "d6ca1d14",
   "metadata": {},
   "outputs": [],
   "source": [
    "strngcols=combinedf.drop('respondent_id',axis=1)\n"
   ]
  },
  {
   "cell_type": "code",
   "execution_count": 18,
   "id": "16023c28",
   "metadata": {},
   "outputs": [],
   "source": [
    "strngcols=strngcols.astype(str).apply(lambda X : pd.Series(LabelEncoder().fit_transform(X[X.notnull()]),\n",
    "                                                           index=X[X.notnull()].index))"
   ]
  },
  {
   "cell_type": "code",
   "execution_count": 19,
   "id": "712d2794",
   "metadata": {},
   "outputs": [],
   "source": [
    "from sklearn.impute import KNNImputer"
   ]
  },
  {
   "cell_type": "code",
   "execution_count": 20,
   "id": "6c506a69",
   "metadata": {},
   "outputs": [],
   "source": [
    "imputer=KNNImputer()"
   ]
  },
  {
   "cell_type": "code",
   "execution_count": 21,
   "id": "5f94e3e3",
   "metadata": {},
   "outputs": [],
   "source": [
    "stringcolsimp=imputer.fit_transform(strngcols)"
   ]
  },
  {
   "cell_type": "code",
   "execution_count": 22,
   "id": "3aedeaec",
   "metadata": {},
   "outputs": [
    {
     "data": {
      "text/plain": [
       "h1n1_concern                   0\n",
       "opinion_h1n1_sick_from_vacc    0\n",
       "household_adults               0\n",
       "census_msa                     0\n",
       "hhs_geo_region                 0\n",
       "employment_status              0\n",
       "rent_or_own                    0\n",
       "marital_status                 0\n",
       "income_poverty                 0\n",
       "sex                            0\n",
       "race                           0\n",
       "education                      0\n",
       "age_group                      0\n",
       "opinion_seas_sick_from_vacc    0\n",
       "opinion_seas_risk              0\n",
       "opinion_seas_vacc_effective    0\n",
       "opinion_h1n1_risk              0\n",
       "h1n1_knowledge                 0\n",
       "opinion_h1n1_vacc_effective    0\n",
       "health_insurance               0\n",
       "health_worker                  0\n",
       "child_under_6_months           0\n",
       "chronic_med_condition          0\n",
       "doctor_recc_seasonal           0\n",
       "doctor_recc_h1n1               0\n",
       "behavioral_touch_face          0\n",
       "behavioral_outside_home        0\n",
       "behavioral_large_gatherings    0\n",
       "behavioral_wash_hands          0\n",
       "behavioral_face_mask           0\n",
       "behavioral_avoidance           0\n",
       "behavioral_antiviral_meds      0\n",
       "household_children             0\n",
       "dtype: int64"
      ]
     },
     "execution_count": 22,
     "metadata": {},
     "output_type": "execute_result"
    }
   ],
   "source": [
    "strngcols.isnull().sum().sort_values(ascending=False)"
   ]
  },
  {
   "cell_type": "code",
   "execution_count": 23,
   "id": "32994272",
   "metadata": {},
   "outputs": [],
   "source": [
    "stringcolsimp=pd.DataFrame(stringcolsimp,columns=strngcols.columns)"
   ]
  },
  {
   "cell_type": "code",
   "execution_count": 24,
   "id": "e88837a1",
   "metadata": {},
   "outputs": [],
   "source": [
    "traindf=stringcolsimp.loc[0:26706]\n",
    "testdf=stringcolsimp.loc[26707:53415]"
   ]
  },
  {
   "cell_type": "code",
   "execution_count": 25,
   "id": "b209e884",
   "metadata": {},
   "outputs": [
    {
     "name": "stdout",
     "output_type": "stream",
     "text": [
      "(26707, 33)\n",
      "(26708, 33)\n"
     ]
    }
   ],
   "source": [
    "print(traindf.shape)\n",
    "print(testdf.shape)"
   ]
  },
  {
   "cell_type": "code",
   "execution_count": 26,
   "id": "36aa8e80",
   "metadata": {},
   "outputs": [],
   "source": [
    "labels=pd.read_csv('h1n1labels.csv')"
   ]
  },
  {
   "cell_type": "code",
   "execution_count": 27,
   "id": "f92385f0",
   "metadata": {},
   "outputs": [
    {
     "data": {
      "text/plain": [
       "Index(['respondent_id', 'h1n1_vaccine', 'seasonal_vaccine'], dtype='object')"
      ]
     },
     "execution_count": 27,
     "metadata": {},
     "output_type": "execute_result"
    }
   ],
   "source": [
    "labels.columns"
   ]
  },
  {
   "cell_type": "code",
   "execution_count": 28,
   "id": "e8de8ade",
   "metadata": {},
   "outputs": [
    {
     "data": {
      "text/html": [
       "<div>\n",
       "<style scoped>\n",
       "    .dataframe tbody tr th:only-of-type {\n",
       "        vertical-align: middle;\n",
       "    }\n",
       "\n",
       "    .dataframe tbody tr th {\n",
       "        vertical-align: top;\n",
       "    }\n",
       "\n",
       "    .dataframe thead th {\n",
       "        text-align: right;\n",
       "    }\n",
       "</style>\n",
       "<table border=\"1\" class=\"dataframe\">\n",
       "  <thead>\n",
       "    <tr style=\"text-align: right;\">\n",
       "      <th></th>\n",
       "      <th>respondent_id</th>\n",
       "      <th>h1n1_vaccine</th>\n",
       "      <th>seasonal_vaccine</th>\n",
       "    </tr>\n",
       "  </thead>\n",
       "  <tbody>\n",
       "    <tr>\n",
       "      <th>0</th>\n",
       "      <td>0</td>\n",
       "      <td>0</td>\n",
       "      <td>0</td>\n",
       "    </tr>\n",
       "    <tr>\n",
       "      <th>1</th>\n",
       "      <td>1</td>\n",
       "      <td>0</td>\n",
       "      <td>1</td>\n",
       "    </tr>\n",
       "    <tr>\n",
       "      <th>2</th>\n",
       "      <td>2</td>\n",
       "      <td>0</td>\n",
       "      <td>0</td>\n",
       "    </tr>\n",
       "    <tr>\n",
       "      <th>3</th>\n",
       "      <td>3</td>\n",
       "      <td>0</td>\n",
       "      <td>1</td>\n",
       "    </tr>\n",
       "    <tr>\n",
       "      <th>4</th>\n",
       "      <td>4</td>\n",
       "      <td>0</td>\n",
       "      <td>0</td>\n",
       "    </tr>\n",
       "  </tbody>\n",
       "</table>\n",
       "</div>"
      ],
      "text/plain": [
       "   respondent_id  h1n1_vaccine  seasonal_vaccine\n",
       "0              0             0                 0\n",
       "1              1             0                 1\n",
       "2              2             0                 0\n",
       "3              3             0                 1\n",
       "4              4             0                 0"
      ]
     },
     "execution_count": 28,
     "metadata": {},
     "output_type": "execute_result"
    }
   ],
   "source": [
    "labels.head()"
   ]
  },
  {
   "cell_type": "code",
   "execution_count": 29,
   "id": "b4afe9d5",
   "metadata": {},
   "outputs": [],
   "source": [
    "y_h1n1=labels.h1n1_vaccine\n",
    "y_seasonal=labels.seasonal_vaccine"
   ]
  },
  {
   "cell_type": "code",
   "execution_count": 30,
   "id": "429f21fa",
   "metadata": {},
   "outputs": [],
   "source": [
    "X=traindf"
   ]
  },
  {
   "cell_type": "code",
   "execution_count": 31,
   "id": "3a9a1238",
   "metadata": {},
   "outputs": [],
   "source": [
    "##### Logistic regression\n",
    "from sklearn.linear_model import LogisticRegression\n"
   ]
  },
  {
   "cell_type": "code",
   "execution_count": 32,
   "id": "25b2fc6f",
   "metadata": {},
   "outputs": [],
   "source": [
    "logit=LogisticRegression(max_iter=3000)"
   ]
  },
  {
   "cell_type": "code",
   "execution_count": 33,
   "id": "a72a825f",
   "metadata": {},
   "outputs": [],
   "source": [
    "logit_h1n1_model=logit.fit(X,y_h1n1)"
   ]
  },
  {
   "cell_type": "code",
   "execution_count": 34,
   "id": "cd985659",
   "metadata": {},
   "outputs": [
    {
     "data": {
      "text/plain": [
       "0.8260381173475119"
      ]
     },
     "execution_count": 34,
     "metadata": {},
     "output_type": "execute_result"
    }
   ],
   "source": [
    "logit_h1n1_model.score(X,y_h1n1)"
   ]
  },
  {
   "cell_type": "code",
   "execution_count": 35,
   "id": "50fea399",
   "metadata": {},
   "outputs": [
    {
     "data": {
      "text/html": [
       "<div>\n",
       "<style scoped>\n",
       "    .dataframe tbody tr th:only-of-type {\n",
       "        vertical-align: middle;\n",
       "    }\n",
       "\n",
       "    .dataframe tbody tr th {\n",
       "        vertical-align: top;\n",
       "    }\n",
       "\n",
       "    .dataframe thead th {\n",
       "        text-align: right;\n",
       "    }\n",
       "</style>\n",
       "<table border=\"1\" class=\"dataframe\">\n",
       "  <thead>\n",
       "    <tr style=\"text-align: right;\">\n",
       "      <th></th>\n",
       "      <th>h1n1_concern</th>\n",
       "      <th>h1n1_knowledge</th>\n",
       "      <th>behavioral_antiviral_meds</th>\n",
       "      <th>behavioral_avoidance</th>\n",
       "      <th>behavioral_face_mask</th>\n",
       "      <th>behavioral_wash_hands</th>\n",
       "      <th>behavioral_large_gatherings</th>\n",
       "      <th>behavioral_outside_home</th>\n",
       "      <th>behavioral_touch_face</th>\n",
       "      <th>doctor_recc_h1n1</th>\n",
       "      <th>...</th>\n",
       "      <th>race</th>\n",
       "      <th>sex</th>\n",
       "      <th>income_poverty</th>\n",
       "      <th>marital_status</th>\n",
       "      <th>rent_or_own</th>\n",
       "      <th>employment_status</th>\n",
       "      <th>hhs_geo_region</th>\n",
       "      <th>census_msa</th>\n",
       "      <th>household_adults</th>\n",
       "      <th>household_children</th>\n",
       "    </tr>\n",
       "  </thead>\n",
       "  <tbody>\n",
       "    <tr>\n",
       "      <th>0</th>\n",
       "      <td>1.0</td>\n",
       "      <td>0.0</td>\n",
       "      <td>0.0</td>\n",
       "      <td>0.0</td>\n",
       "      <td>0.0</td>\n",
       "      <td>0.0</td>\n",
       "      <td>0.0</td>\n",
       "      <td>1.0</td>\n",
       "      <td>1.0</td>\n",
       "      <td>0.0</td>\n",
       "      <td>...</td>\n",
       "      <td>3.0</td>\n",
       "      <td>0.0</td>\n",
       "      <td>2.0</td>\n",
       "      <td>1.0</td>\n",
       "      <td>0.0</td>\n",
       "      <td>1.0</td>\n",
       "      <td>8.0</td>\n",
       "      <td>2.0</td>\n",
       "      <td>0.0</td>\n",
       "      <td>0.0</td>\n",
       "    </tr>\n",
       "    <tr>\n",
       "      <th>1</th>\n",
       "      <td>3.0</td>\n",
       "      <td>2.0</td>\n",
       "      <td>0.0</td>\n",
       "      <td>1.0</td>\n",
       "      <td>0.0</td>\n",
       "      <td>1.0</td>\n",
       "      <td>0.0</td>\n",
       "      <td>1.0</td>\n",
       "      <td>1.0</td>\n",
       "      <td>0.0</td>\n",
       "      <td>...</td>\n",
       "      <td>3.0</td>\n",
       "      <td>1.0</td>\n",
       "      <td>2.0</td>\n",
       "      <td>1.0</td>\n",
       "      <td>1.0</td>\n",
       "      <td>0.0</td>\n",
       "      <td>1.0</td>\n",
       "      <td>0.0</td>\n",
       "      <td>0.0</td>\n",
       "      <td>0.0</td>\n",
       "    </tr>\n",
       "    <tr>\n",
       "      <th>2</th>\n",
       "      <td>1.0</td>\n",
       "      <td>1.0</td>\n",
       "      <td>0.0</td>\n",
       "      <td>1.0</td>\n",
       "      <td>0.0</td>\n",
       "      <td>0.0</td>\n",
       "      <td>0.0</td>\n",
       "      <td>0.0</td>\n",
       "      <td>0.0</td>\n",
       "      <td>2.0</td>\n",
       "      <td>...</td>\n",
       "      <td>3.0</td>\n",
       "      <td>1.0</td>\n",
       "      <td>0.0</td>\n",
       "      <td>1.0</td>\n",
       "      <td>0.0</td>\n",
       "      <td>0.0</td>\n",
       "      <td>9.0</td>\n",
       "      <td>0.0</td>\n",
       "      <td>2.0</td>\n",
       "      <td>0.0</td>\n",
       "    </tr>\n",
       "    <tr>\n",
       "      <th>3</th>\n",
       "      <td>1.0</td>\n",
       "      <td>1.0</td>\n",
       "      <td>0.0</td>\n",
       "      <td>1.0</td>\n",
       "      <td>0.0</td>\n",
       "      <td>1.0</td>\n",
       "      <td>1.0</td>\n",
       "      <td>0.0</td>\n",
       "      <td>0.0</td>\n",
       "      <td>0.0</td>\n",
       "      <td>...</td>\n",
       "      <td>3.0</td>\n",
       "      <td>0.0</td>\n",
       "      <td>2.0</td>\n",
       "      <td>1.0</td>\n",
       "      <td>1.0</td>\n",
       "      <td>1.0</td>\n",
       "      <td>5.0</td>\n",
       "      <td>1.0</td>\n",
       "      <td>0.0</td>\n",
       "      <td>0.0</td>\n",
       "    </tr>\n",
       "    <tr>\n",
       "      <th>4</th>\n",
       "      <td>2.0</td>\n",
       "      <td>1.0</td>\n",
       "      <td>0.0</td>\n",
       "      <td>1.0</td>\n",
       "      <td>0.0</td>\n",
       "      <td>1.0</td>\n",
       "      <td>1.0</td>\n",
       "      <td>0.0</td>\n",
       "      <td>1.0</td>\n",
       "      <td>0.0</td>\n",
       "      <td>...</td>\n",
       "      <td>3.0</td>\n",
       "      <td>0.0</td>\n",
       "      <td>0.0</td>\n",
       "      <td>0.0</td>\n",
       "      <td>0.0</td>\n",
       "      <td>0.0</td>\n",
       "      <td>9.0</td>\n",
       "      <td>0.0</td>\n",
       "      <td>1.0</td>\n",
       "      <td>0.0</td>\n",
       "    </tr>\n",
       "  </tbody>\n",
       "</table>\n",
       "<p>5 rows × 33 columns</p>\n",
       "</div>"
      ],
      "text/plain": [
       "   h1n1_concern  h1n1_knowledge  behavioral_antiviral_meds  \\\n",
       "0           1.0             0.0                        0.0   \n",
       "1           3.0             2.0                        0.0   \n",
       "2           1.0             1.0                        0.0   \n",
       "3           1.0             1.0                        0.0   \n",
       "4           2.0             1.0                        0.0   \n",
       "\n",
       "   behavioral_avoidance  behavioral_face_mask  behavioral_wash_hands  \\\n",
       "0                   0.0                   0.0                    0.0   \n",
       "1                   1.0                   0.0                    1.0   \n",
       "2                   1.0                   0.0                    0.0   \n",
       "3                   1.0                   0.0                    1.0   \n",
       "4                   1.0                   0.0                    1.0   \n",
       "\n",
       "   behavioral_large_gatherings  behavioral_outside_home  \\\n",
       "0                          0.0                      1.0   \n",
       "1                          0.0                      1.0   \n",
       "2                          0.0                      0.0   \n",
       "3                          1.0                      0.0   \n",
       "4                          1.0                      0.0   \n",
       "\n",
       "   behavioral_touch_face  doctor_recc_h1n1  ...  race  sex  income_poverty  \\\n",
       "0                    1.0               0.0  ...   3.0  0.0             2.0   \n",
       "1                    1.0               0.0  ...   3.0  1.0             2.0   \n",
       "2                    0.0               2.0  ...   3.0  1.0             0.0   \n",
       "3                    0.0               0.0  ...   3.0  0.0             2.0   \n",
       "4                    1.0               0.0  ...   3.0  0.0             0.0   \n",
       "\n",
       "   marital_status  rent_or_own  employment_status  hhs_geo_region  census_msa  \\\n",
       "0             1.0          0.0                1.0             8.0         2.0   \n",
       "1             1.0          1.0                0.0             1.0         0.0   \n",
       "2             1.0          0.0                0.0             9.0         0.0   \n",
       "3             1.0          1.0                1.0             5.0         1.0   \n",
       "4             0.0          0.0                0.0             9.0         0.0   \n",
       "\n",
       "   household_adults  household_children  \n",
       "0               0.0                 0.0  \n",
       "1               0.0                 0.0  \n",
       "2               2.0                 0.0  \n",
       "3               0.0                 0.0  \n",
       "4               1.0                 0.0  \n",
       "\n",
       "[5 rows x 33 columns]"
      ]
     },
     "execution_count": 35,
     "metadata": {},
     "output_type": "execute_result"
    }
   ],
   "source": [
    "X.head()"
   ]
  },
  {
   "cell_type": "code",
   "execution_count": 36,
   "id": "a1ad94ac",
   "metadata": {},
   "outputs": [],
   "source": [
    "logit_seasonal_model=logit.fit(X,y_seasonal)"
   ]
  },
  {
   "cell_type": "code",
   "execution_count": 37,
   "id": "60ad9ed6",
   "metadata": {},
   "outputs": [
    {
     "data": {
      "text/plain": [
       "0.7589021604822705"
      ]
     },
     "execution_count": 37,
     "metadata": {},
     "output_type": "execute_result"
    }
   ],
   "source": [
    "logit_seasonal_model.score(X,y_seasonal)"
   ]
  },
  {
   "cell_type": "code",
   "execution_count": 38,
   "id": "d96bb6d3",
   "metadata": {},
   "outputs": [],
   "source": [
    "logregpredict_X_h1n1=logit_h1n1_model.predict(X)\n",
    "logregpredict_X_seasonal=logit_seasonal_model.predict(X)"
   ]
  },
  {
   "cell_type": "code",
   "execution_count": 39,
   "id": "452af645",
   "metadata": {},
   "outputs": [
    {
     "data": {
      "text/html": [
       "<div>\n",
       "<style scoped>\n",
       "    .dataframe tbody tr th:only-of-type {\n",
       "        vertical-align: middle;\n",
       "    }\n",
       "\n",
       "    .dataframe tbody tr th {\n",
       "        vertical-align: top;\n",
       "    }\n",
       "\n",
       "    .dataframe thead th {\n",
       "        text-align: right;\n",
       "    }\n",
       "</style>\n",
       "<table border=\"1\" class=\"dataframe\">\n",
       "  <thead>\n",
       "    <tr style=\"text-align: right;\">\n",
       "      <th>col_0</th>\n",
       "      <th>0</th>\n",
       "      <th>1</th>\n",
       "    </tr>\n",
       "    <tr>\n",
       "      <th>h1n1_vaccine</th>\n",
       "      <th></th>\n",
       "      <th></th>\n",
       "    </tr>\n",
       "  </thead>\n",
       "  <tbody>\n",
       "    <tr>\n",
       "      <th>0</th>\n",
       "      <td>12866</td>\n",
       "      <td>8167</td>\n",
       "    </tr>\n",
       "    <tr>\n",
       "      <th>1</th>\n",
       "      <td>1855</td>\n",
       "      <td>3819</td>\n",
       "    </tr>\n",
       "  </tbody>\n",
       "</table>\n",
       "</div>"
      ],
      "text/plain": [
       "col_0             0     1\n",
       "h1n1_vaccine             \n",
       "0             12866  8167\n",
       "1              1855  3819"
      ]
     },
     "execution_count": 39,
     "metadata": {},
     "output_type": "execute_result"
    }
   ],
   "source": [
    "pd.crosstab(y_h1n1,logregpredict_X_h1n1)"
   ]
  },
  {
   "cell_type": "code",
   "execution_count": 40,
   "id": "b04ee8e5",
   "metadata": {},
   "outputs": [
    {
     "name": "stdout",
     "output_type": "stream",
     "text": [
      "0.6247425768525106\n"
     ]
    }
   ],
   "source": [
    "print((12866+3819)/(12866+8167+1855+3819))"
   ]
  },
  {
   "cell_type": "code",
   "execution_count": 41,
   "id": "486ca0fa",
   "metadata": {},
   "outputs": [
    {
     "data": {
      "text/html": [
       "<div>\n",
       "<style scoped>\n",
       "    .dataframe tbody tr th:only-of-type {\n",
       "        vertical-align: middle;\n",
       "    }\n",
       "\n",
       "    .dataframe tbody tr th {\n",
       "        vertical-align: top;\n",
       "    }\n",
       "\n",
       "    .dataframe thead th {\n",
       "        text-align: right;\n",
       "    }\n",
       "</style>\n",
       "<table border=\"1\" class=\"dataframe\">\n",
       "  <thead>\n",
       "    <tr style=\"text-align: right;\">\n",
       "      <th>col_0</th>\n",
       "      <th>0</th>\n",
       "      <th>1</th>\n",
       "    </tr>\n",
       "    <tr>\n",
       "      <th>seasonal_vaccine</th>\n",
       "      <th></th>\n",
       "      <th></th>\n",
       "    </tr>\n",
       "  </thead>\n",
       "  <tbody>\n",
       "    <tr>\n",
       "      <th>0</th>\n",
       "      <td>11277</td>\n",
       "      <td>2995</td>\n",
       "    </tr>\n",
       "    <tr>\n",
       "      <th>1</th>\n",
       "      <td>3444</td>\n",
       "      <td>8991</td>\n",
       "    </tr>\n",
       "  </tbody>\n",
       "</table>\n",
       "</div>"
      ],
      "text/plain": [
       "col_0                 0     1\n",
       "seasonal_vaccine             \n",
       "0                 11277  2995\n",
       "1                  3444  8991"
      ]
     },
     "execution_count": 41,
     "metadata": {},
     "output_type": "execute_result"
    }
   ],
   "source": [
    "pd.crosstab(y_seasonal,logregpredict_X_seasonal)"
   ]
  },
  {
   "cell_type": "code",
   "execution_count": 42,
   "id": "1d24fc14",
   "metadata": {},
   "outputs": [
    {
     "name": "stdout",
     "output_type": "stream",
     "text": [
      "0.7589021604822705\n"
     ]
    }
   ],
   "source": [
    "print((11277+8991)/(11277+2995+3444+8991))"
   ]
  },
  {
   "cell_type": "code",
   "execution_count": 43,
   "id": "fc05e534",
   "metadata": {},
   "outputs": [],
   "source": [
    "logregpredict_h1n1_test=logit_h1n1_model.predict_proba(testdf)\n"
   ]
  },
  {
   "cell_type": "code",
   "execution_count": 44,
   "id": "bddbbe4d",
   "metadata": {},
   "outputs": [
    {
     "data": {
      "text/plain": [
       "array([[0.68129865, 0.31870135],\n",
       "       [0.9080848 , 0.0919152 ],\n",
       "       [0.27895369, 0.72104631],\n",
       "       [0.25379721, 0.74620279],\n",
       "       [0.49028871, 0.50971129],\n",
       "       [0.07744396, 0.92255604],\n",
       "       [0.66285774, 0.33714226],\n",
       "       [0.62976661, 0.37023339]])"
      ]
     },
     "execution_count": 44,
     "metadata": {},
     "output_type": "execute_result"
    }
   ],
   "source": [
    "logregpredict_h1n1_test[:8]"
   ]
  },
  {
   "cell_type": "code",
   "execution_count": 45,
   "id": "80b73a21",
   "metadata": {},
   "outputs": [],
   "source": [
    "logregpredict_seasonal_test=logit_seasonal_model.predict_proba(testdf)"
   ]
  },
  {
   "cell_type": "code",
   "execution_count": 46,
   "id": "c22a7ffb",
   "metadata": {},
   "outputs": [
    {
     "data": {
      "text/plain": [
       "array([[0.68129865, 0.31870135],\n",
       "       [0.9080848 , 0.0919152 ],\n",
       "       [0.27895369, 0.72104631],\n",
       "       [0.25379721, 0.74620279],\n",
       "       [0.49028871, 0.50971129],\n",
       "       [0.07744396, 0.92255604],\n",
       "       [0.66285774, 0.33714226],\n",
       "       [0.62976661, 0.37023339]])"
      ]
     },
     "execution_count": 46,
     "metadata": {},
     "output_type": "execute_result"
    }
   ],
   "source": [
    "logregpredict_seasonal_test[:8]"
   ]
  },
  {
   "cell_type": "code",
   "execution_count": 47,
   "id": "17c31f42",
   "metadata": {},
   "outputs": [
    {
     "data": {
      "text/plain": [
       "numpy.ndarray"
      ]
     },
     "execution_count": 47,
     "metadata": {},
     "output_type": "execute_result"
    }
   ],
   "source": [
    "type(logregpredict_h1n1_test)"
   ]
  },
  {
   "cell_type": "code",
   "execution_count": 48,
   "id": "10b7477a",
   "metadata": {},
   "outputs": [],
   "source": [
    "pd.DataFrame(logregpredict_h1n1_test).to_csv('h1n1_log.csv')"
   ]
  },
  {
   "cell_type": "code",
   "execution_count": 49,
   "id": "e54921a9",
   "metadata": {},
   "outputs": [],
   "source": [
    "from sklearn.metrics import plot_roc_curve"
   ]
  },
  {
   "cell_type": "code",
   "execution_count": 50,
   "id": "ab32e2f1",
   "metadata": {
    "scrolled": true
   },
   "outputs": [
    {
     "data": {
      "text/plain": [
       "<sklearn.metrics._plot.roc_curve.RocCurveDisplay at 0x2272a4a4400>"
      ]
     },
     "execution_count": 50,
     "metadata": {},
     "output_type": "execute_result"
    },
    {
     "data": {
      "image/png": "[encoded data removed]",
      "text/plain": [
       "<Figure size 432x288 with 1 Axes>"
      ]
     },
     "metadata": {
      "needs_background": "light"
     },
     "output_type": "display_data"
    }
   ],
   "source": [
    "plot_roc_curve(logit_h1n1_model,X,y_h1n1)"
   ]
  },
  {
   "cell_type": "code",
   "execution_count": 51,
   "id": "19597d9b",
   "metadata": {},
   "outputs": [
    {
     "data": {
      "text/plain": [
       "<sklearn.metrics._plot.roc_curve.RocCurveDisplay at 0x2272c04e610>"
      ]
     },
     "execution_count": 51,
     "metadata": {},
     "output_type": "execute_result"
    },
    {
     "data": {
      "image/png": "[encoded data removed]",
      "text/plain": [
       "<Figure size 432x288 with 1 Axes>"
      ]
     },
     "metadata": {
      "needs_background": "light"
     },
     "output_type": "display_data"
    }
   ],
   "source": [
    "plot_roc_curve(logit_seasonal_model,X,y_seasonal)"
   ]
  },
  {
   "cell_type": "code",
   "execution_count": 52,
   "id": "882085fd",
   "metadata": {},
   "outputs": [],
   "source": [
    "from sklearn.metrics import classification_report"
   ]
  },
  {
   "cell_type": "code",
   "execution_count": 53,
   "id": "7c13d1f7",
   "metadata": {},
   "outputs": [
    {
     "name": "stdout",
     "output_type": "stream",
     "text": [
      "              precision    recall  f1-score   support\n",
      "\n",
      "           0       0.87      0.61      0.72     21033\n",
      "           1       0.32      0.67      0.43      5674\n",
      "\n",
      "    accuracy                           0.62     26707\n",
      "   macro avg       0.60      0.64      0.58     26707\n",
      "weighted avg       0.76      0.62      0.66     26707\n",
      "\n"
     ]
    }
   ],
   "source": [
    "print(classification_report(y_h1n1,logregpredict_X_h1n1))"
   ]
  },
  {
   "cell_type": "code",
   "execution_count": 54,
   "id": "34d42837",
   "metadata": {},
   "outputs": [
    {
     "name": "stdout",
     "output_type": "stream",
     "text": [
      "              precision    recall  f1-score   support\n",
      "\n",
      "           0       0.77      0.79      0.78     14272\n",
      "           1       0.75      0.72      0.74     12435\n",
      "\n",
      "    accuracy                           0.76     26707\n",
      "   macro avg       0.76      0.76      0.76     26707\n",
      "weighted avg       0.76      0.76      0.76     26707\n",
      "\n"
     ]
    }
   ],
   "source": [
    "print(classification_report(y_seasonal,logregpredict_X_seasonal))"
   ]
  },
  {
   "cell_type": "code",
   "execution_count": 55,
   "id": "d130ae4f",
   "metadata": {},
   "outputs": [],
   "source": [
    "#### logistic score ===== 0.7459 in data driven"
   ]
  },
  {
   "cell_type": "code",
   "execution_count": 56,
   "id": "339b6572",
   "metadata": {},
   "outputs": [],
   "source": [
    "#######################################################################################\n",
    "# Decision tree\n",
    "from sklearn.tree import DecisionTreeClassifier"
   ]
  },
  {
   "cell_type": "code",
   "execution_count": 57,
   "id": "aef967aa",
   "metadata": {},
   "outputs": [],
   "source": [
    "tree=DecisionTreeClassifier(max_depth=9,criterion='entropy')"
   ]
  },
  {
   "cell_type": "code",
   "execution_count": 58,
   "id": "4a80d6c1",
   "metadata": {},
   "outputs": [],
   "source": [
    "h1n1_treemodel=tree.fit(X,y_h1n1)"
   ]
  },
  {
   "cell_type": "code",
   "execution_count": 59,
   "id": "c6bda0fc",
   "metadata": {},
   "outputs": [
    {
     "data": {
      "text/plain": [
       "0.8664769536076684"
      ]
     },
     "execution_count": 59,
     "metadata": {},
     "output_type": "execute_result"
    }
   ],
   "source": [
    "h1n1_treemodel.score(X,y_h1n1)"
   ]
  },
  {
   "cell_type": "code",
   "execution_count": 60,
   "id": "26d35d0f",
   "metadata": {},
   "outputs": [],
   "source": [
    "treepredicth1n1=h1n1_treemodel.predict(X)"
   ]
  },
  {
   "cell_type": "code",
   "execution_count": 61,
   "id": "2d266583",
   "metadata": {},
   "outputs": [
    {
     "data": {
      "text/plain": [
       "(26707, 3)"
      ]
     },
     "execution_count": 61,
     "metadata": {},
     "output_type": "execute_result"
    }
   ],
   "source": [
    "labels.shape"
   ]
  },
  {
   "cell_type": "code",
   "execution_count": 62,
   "id": "0beac65e",
   "metadata": {},
   "outputs": [
    {
     "data": {
      "text/plain": [
       "<sklearn.metrics._plot.roc_curve.RocCurveDisplay at 0x22729c73a90>"
      ]
     },
     "execution_count": 62,
     "metadata": {},
     "output_type": "execute_result"
    },
    {
     "data": {
      "image/png": "[encoded data removed]",
      "text/plain": [
       "<Figure size 432x288 with 1 Axes>"
      ]
     },
     "metadata": {
      "needs_background": "light"
     },
     "output_type": "display_data"
    }
   ],
   "source": [
    "plot_roc_curve(h1n1_treemodel,X,y_h1n1)"
   ]
  },
  {
   "cell_type": "code",
   "execution_count": 63,
   "id": "39130ca0",
   "metadata": {},
   "outputs": [
    {
     "name": "stdout",
     "output_type": "stream",
     "text": [
      "              precision    recall  f1-score   support\n",
      "\n",
      "           0       0.89      0.95      0.92     21033\n",
      "           1       0.75      0.56      0.64      5674\n",
      "\n",
      "    accuracy                           0.87     26707\n",
      "   macro avg       0.82      0.75      0.78     26707\n",
      "weighted avg       0.86      0.87      0.86     26707\n",
      "\n"
     ]
    }
   ],
   "source": [
    "print(classification_report(y_h1n1,treepredicth1n1))"
   ]
  },
  {
   "cell_type": "code",
   "execution_count": 64,
   "id": "c556ca86",
   "metadata": {},
   "outputs": [],
   "source": [
    "seasnl_treemodel=tree.fit(X,y_seasonal)"
   ]
  },
  {
   "cell_type": "code",
   "execution_count": 65,
   "id": "1e98f78d",
   "metadata": {},
   "outputs": [
    {
     "data": {
      "text/plain": [
       "0.794323585576815"
      ]
     },
     "execution_count": 65,
     "metadata": {},
     "output_type": "execute_result"
    }
   ],
   "source": [
    "seasnl_treemodel.score(X,y_seasonal)"
   ]
  },
  {
   "cell_type": "code",
   "execution_count": 66,
   "id": "fa45b31e",
   "metadata": {},
   "outputs": [],
   "source": [
    "treepredictsseasnl=seasnl_treemodel.predict(X)"
   ]
  },
  {
   "cell_type": "code",
   "execution_count": 67,
   "id": "437643a0",
   "metadata": {},
   "outputs": [
    {
     "data": {
      "text/plain": [
       "<sklearn.metrics._plot.roc_curve.RocCurveDisplay at 0x22729c62580>"
      ]
     },
     "execution_count": 67,
     "metadata": {},
     "output_type": "execute_result"
    },
    {
     "data": {
      "image/png": "[encoded data removed]",
      "text/plain": [
       "<Figure size 432x288 with 1 Axes>"
      ]
     },
     "metadata": {
      "needs_background": "light"
     },
     "output_type": "display_data"
    }
   ],
   "source": [
    "plot_roc_curve(seasnl_treemodel,X,y_seasonal)"
   ]
  },
  {
   "cell_type": "code",
   "execution_count": 68,
   "id": "d44071d8",
   "metadata": {},
   "outputs": [
    {
     "name": "stdout",
     "output_type": "stream",
     "text": [
      "              precision    recall  f1-score   support\n",
      "\n",
      "           0       0.80      0.82      0.81     14272\n",
      "           1       0.79      0.76      0.78     12435\n",
      "\n",
      "    accuracy                           0.79     26707\n",
      "   macro avg       0.79      0.79      0.79     26707\n",
      "weighted avg       0.79      0.79      0.79     26707\n",
      "\n"
     ]
    }
   ],
   "source": [
    "print(classification_report(y_seasonal,treepredictsseasnl))"
   ]
  },
  {
   "cell_type": "code",
   "execution_count": 69,
   "id": "250f6df2",
   "metadata": {},
   "outputs": [],
   "source": [
    "treepredict_h1n1_test=h1n1_treemodel.predict_proba(testdf)"
   ]
  },
  {
   "cell_type": "code",
   "execution_count": 70,
   "id": "586ff501",
   "metadata": {},
   "outputs": [],
   "source": [
    "treepredict_seasnl_test=seasnl_treemodel.predict_proba(testdf)"
   ]
  },
  {
   "cell_type": "code",
   "execution_count": 71,
   "id": "17b9a884",
   "metadata": {},
   "outputs": [
    {
     "data": {
      "text/plain": [
       "array([[0.86092715, 0.13907285],\n",
       "       [0.90635452, 0.09364548],\n",
       "       [0.19787986, 0.80212014],\n",
       "       [0.06711409, 0.93288591],\n",
       "       [0.        , 1.        ],\n",
       "       [0.05555556, 0.94444444]])"
      ]
     },
     "execution_count": 71,
     "metadata": {},
     "output_type": "execute_result"
    }
   ],
   "source": [
    "treepredict_h1n1_test[:6]"
   ]
  },
  {
   "cell_type": "code",
   "execution_count": 72,
   "id": "3f55ebe7",
   "metadata": {},
   "outputs": [
    {
     "data": {
      "text/plain": [
       "array([[0.86092715, 0.13907285],\n",
       "       [0.90635452, 0.09364548],\n",
       "       [0.19787986, 0.80212014],\n",
       "       [0.06711409, 0.93288591],\n",
       "       [0.        , 1.        ],\n",
       "       [0.05555556, 0.94444444]])"
      ]
     },
     "execution_count": 72,
     "metadata": {},
     "output_type": "execute_result"
    }
   ],
   "source": [
    "treepredict_seasnl_test[:6]"
   ]
  },
  {
   "cell_type": "code",
   "execution_count": 73,
   "id": "0fcdf604",
   "metadata": {},
   "outputs": [],
   "source": [
    "pd.DataFrame(treepredict_h1n1_test).to_csv(\"h1n1_treesample.csv\")"
   ]
  },
  {
   "cell_type": "code",
   "execution_count": 74,
   "id": "630e8932",
   "metadata": {},
   "outputs": [],
   "source": [
    "## Decision tree score = 0.7594\n",
    "#--------------------------------------------------------------------------------------"
   ]
  },
  {
   "cell_type": "code",
   "execution_count": 75,
   "id": "6f96210d",
   "metadata": {},
   "outputs": [],
   "source": [
    "# Random forest\n",
    "from sklearn.ensemble import RandomForestClassifier"
   ]
  },
  {
   "cell_type": "code",
   "execution_count": 76,
   "id": "d44079be",
   "metadata": {},
   "outputs": [],
   "source": [
    "RF=RandomForestClassifier(n_estimators=1000,oob_score=True)"
   ]
  },
  {
   "cell_type": "code",
   "execution_count": 77,
   "id": "9c749251",
   "metadata": {},
   "outputs": [],
   "source": [
    "rfmodel_h1n1=RF.fit(X,y_h1n1)"
   ]
  },
  {
   "cell_type": "code",
   "execution_count": 78,
   "id": "44f6a501",
   "metadata": {},
   "outputs": [
    {
     "data": {
      "text/plain": [
       "1.0"
      ]
     },
     "execution_count": 78,
     "metadata": {},
     "output_type": "execute_result"
    }
   ],
   "source": [
    "rfmodel_h1n1.score(X,y_h1n1)"
   ]
  },
  {
   "cell_type": "code",
   "execution_count": 79,
   "id": "59d0a18c",
   "metadata": {},
   "outputs": [
    {
     "data": {
      "text/plain": [
       "<sklearn.metrics._plot.roc_curve.RocCurveDisplay at 0x2272c0caeb0>"
      ]
     },
     "execution_count": 79,
     "metadata": {},
     "output_type": "execute_result"
    },
    {
     "data": {
      "image/png": "[encoded data removed]",
      "text/plain": [
       "<Figure size 432x288 with 1 Axes>"
      ]
     },
     "metadata": {
      "needs_background": "light"
     },
     "output_type": "display_data"
    }
   ],
   "source": [
    "plot_roc_curve(rfmodel_h1n1,X,y_h1n1)"
   ]
  },
  {
   "cell_type": "code",
   "execution_count": 80,
   "id": "bfb63277",
   "metadata": {},
   "outputs": [],
   "source": [
    "rfprdct_h1n1=rfmodel_h1n1.predict(X)"
   ]
  },
  {
   "cell_type": "code",
   "execution_count": 81,
   "id": "9b6c75f9",
   "metadata": {},
   "outputs": [
    {
     "name": "stdout",
     "output_type": "stream",
     "text": [
      "              precision    recall  f1-score   support\n",
      "\n",
      "           0       1.00      1.00      1.00     21033\n",
      "           1       1.00      1.00      1.00      5674\n",
      "\n",
      "    accuracy                           1.00     26707\n",
      "   macro avg       1.00      1.00      1.00     26707\n",
      "weighted avg       1.00      1.00      1.00     26707\n",
      "\n"
     ]
    }
   ],
   "source": [
    "print(classification_report(y_h1n1,rfprdct_h1n1))"
   ]
  },
  {
   "cell_type": "code",
   "execution_count": 82,
   "id": "d62bb30c",
   "metadata": {},
   "outputs": [],
   "source": [
    "rfmodel_ssnl=RF.fit(X,y_seasonal)"
   ]
  },
  {
   "cell_type": "code",
   "execution_count": 83,
   "id": "11a698e6",
   "metadata": {},
   "outputs": [
    {
     "data": {
      "text/plain": [
       "1.0"
      ]
     },
     "execution_count": 83,
     "metadata": {},
     "output_type": "execute_result"
    }
   ],
   "source": [
    "rfmodel_ssnl.score(X,y_seasonal)"
   ]
  },
  {
   "cell_type": "code",
   "execution_count": 84,
   "id": "614ff74b",
   "metadata": {},
   "outputs": [
    {
     "data": {
      "text/plain": [
       "<sklearn.metrics._plot.roc_curve.RocCurveDisplay at 0x22729e759a0>"
      ]
     },
     "execution_count": 84,
     "metadata": {},
     "output_type": "execute_result"
    },
    {
     "data": {
      "image/png": "[encoded data removed]",
      "text/plain": [
       "<Figure size 432x288 with 1 Axes>"
      ]
     },
     "metadata": {
      "needs_background": "light"
     },
     "output_type": "display_data"
    }
   ],
   "source": [
    "plot_roc_curve(rfmodel_ssnl,X,y_seasonal)"
   ]
  },
  {
   "cell_type": "code",
   "execution_count": 85,
   "id": "b3959051",
   "metadata": {},
   "outputs": [],
   "source": [
    "rfprdct_ssnl=rfmodel_ssnl.predict(X)"
   ]
  },
  {
   "cell_type": "code",
   "execution_count": 86,
   "id": "7f8dd3a7",
   "metadata": {},
   "outputs": [
    {
     "name": "stdout",
     "output_type": "stream",
     "text": [
      "              precision    recall  f1-score   support\n",
      "\n",
      "           0       1.00      1.00      1.00     14272\n",
      "           1       1.00      1.00      1.00     12435\n",
      "\n",
      "    accuracy                           1.00     26707\n",
      "   macro avg       1.00      1.00      1.00     26707\n",
      "weighted avg       1.00      1.00      1.00     26707\n",
      "\n"
     ]
    }
   ],
   "source": [
    "print(classification_report(y_seasonal,rfprdct_ssnl))"
   ]
  },
  {
   "cell_type": "code",
   "execution_count": 87,
   "id": "acb122b4",
   "metadata": {},
   "outputs": [],
   "source": [
    "from sklearn.model_selection import cross_val_score"
   ]
  },
  {
   "cell_type": "code",
   "execution_count": 88,
   "id": "aced0a6e",
   "metadata": {},
   "outputs": [
    {
     "data": {
      "text/plain": [
       "array([0.85454886, 0.85005616, 0.85452163, 0.85751732, 0.84946639])"
      ]
     },
     "execution_count": 88,
     "metadata": {},
     "output_type": "execute_result"
    }
   ],
   "source": [
    "cross_val_score(rfmodel_h1n1,X,y_h1n1,cv=5)"
   ]
  },
  {
   "cell_type": "code",
   "execution_count": 89,
   "id": "60faf737",
   "metadata": {},
   "outputs": [
    {
     "data": {
      "text/plain": [
       "array([0.77424186, 0.78210408, 0.77813144, 0.78768021, 0.78243775])"
      ]
     },
     "execution_count": 89,
     "metadata": {},
     "output_type": "execute_result"
    }
   ],
   "source": [
    "cross_val_score(rfmodel_ssnl,X,y_seasonal,cv=5)"
   ]
  },
  {
   "cell_type": "code",
   "execution_count": 90,
   "id": "cd95e62a",
   "metadata": {},
   "outputs": [],
   "source": [
    "rfpred_test_h1n1=rfmodel_h1n1.predict_proba(testdf)"
   ]
  },
  {
   "cell_type": "code",
   "execution_count": 91,
   "id": "27825710",
   "metadata": {},
   "outputs": [
    {
     "data": {
      "text/plain": [
       "array([[0.764, 0.236],\n",
       "       [0.979, 0.021],\n",
       "       [0.148, 0.852],\n",
       "       [0.092, 0.908],\n",
       "       [0.542, 0.458],\n",
       "       [0.111, 0.889]])"
      ]
     },
     "execution_count": 91,
     "metadata": {},
     "output_type": "execute_result"
    }
   ],
   "source": [
    "rfpred_test_h1n1[:6]"
   ]
  },
  {
   "cell_type": "code",
   "execution_count": 92,
   "id": "e76ef398",
   "metadata": {},
   "outputs": [],
   "source": [
    "rfpred_test_ssnl=rfmodel_ssnl.predict_proba(testdf)"
   ]
  },
  {
   "cell_type": "code",
   "execution_count": 93,
   "id": "ccb54b50",
   "metadata": {},
   "outputs": [
    {
     "data": {
      "text/plain": [
       "array([[0.764, 0.236],\n",
       "       [0.979, 0.021],\n",
       "       [0.148, 0.852],\n",
       "       [0.092, 0.908],\n",
       "       [0.542, 0.458],\n",
       "       [0.111, 0.889]])"
      ]
     },
     "execution_count": 93,
     "metadata": {},
     "output_type": "execute_result"
    }
   ],
   "source": [
    "rfpred_test_ssnl[:6]"
   ]
  },
  {
   "cell_type": "code",
   "execution_count": 94,
   "id": "38ebefc3",
   "metadata": {},
   "outputs": [],
   "source": [
    "pd.DataFrame(rfpred_test_h1n1).to_csv(\"h1n1_rf_samp.csv\")"
   ]
  },
  {
   "cell_type": "code",
   "execution_count": 95,
   "id": "e2248a2e",
   "metadata": {},
   "outputs": [],
   "source": [
    "# Random-forest score : 0.7897\n",
    "#________________________________________________________________________"
   ]
  },
  {
   "cell_type": "code",
   "execution_count": 96,
   "id": "cb21b634",
   "metadata": {},
   "outputs": [],
   "source": [
    "from sklearn.ensemble import GradientBoostingClassifier"
   ]
  },
  {
   "cell_type": "code",
   "execution_count": 97,
   "id": "e72949bd",
   "metadata": {},
   "outputs": [],
   "source": [
    "gb=GradientBoostingClassifier(n_estimators=3000)"
   ]
  },
  {
   "cell_type": "code",
   "execution_count": 98,
   "id": "6e8bba8b",
   "metadata": {},
   "outputs": [],
   "source": [
    "gbmodel_h1n1=gb.fit(X,y_h1n1)"
   ]
  },
  {
   "cell_type": "code",
   "execution_count": 99,
   "id": "648e945c",
   "metadata": {},
   "outputs": [
    {
     "data": {
      "text/plain": [
       "0.8957202231624668"
      ]
     },
     "execution_count": 99,
     "metadata": {},
     "output_type": "execute_result"
    }
   ],
   "source": [
    "gbmodel_h1n1.score(X,y_h1n1)"
   ]
  },
  {
   "cell_type": "code",
   "execution_count": 100,
   "id": "68f70590",
   "metadata": {},
   "outputs": [],
   "source": [
    "gbm_pred_h1n1=gbmodel_h1n1.predict(X)"
   ]
  },
  {
   "cell_type": "code",
   "execution_count": 101,
   "id": "26c53cf2",
   "metadata": {},
   "outputs": [
    {
     "data": {
      "text/plain": [
       "<sklearn.metrics._plot.roc_curve.RocCurveDisplay at 0x22729f05c70>"
      ]
     },
     "execution_count": 101,
     "metadata": {},
     "output_type": "execute_result"
    },
    {
     "data": {
      "image/png": "[encoded data removed]",
      "text/plain": [
       "<Figure size 432x288 with 1 Axes>"
      ]
     },
     "metadata": {
      "needs_background": "light"
     },
     "output_type": "display_data"
    }
   ],
   "source": [
    "plot_roc_curve(gbmodel_h1n1,X,y_h1n1)"
   ]
  },
  {
   "cell_type": "code",
   "execution_count": 102,
   "id": "5935bdc1",
   "metadata": {},
   "outputs": [
    {
     "name": "stdout",
     "output_type": "stream",
     "text": [
      "              precision    recall  f1-score   support\n",
      "\n",
      "           0       0.91      0.97      0.94     21033\n",
      "           1       0.83      0.64      0.72      5674\n",
      "\n",
      "    accuracy                           0.90     26707\n",
      "   macro avg       0.87      0.80      0.83     26707\n",
      "weighted avg       0.89      0.90      0.89     26707\n",
      "\n"
     ]
    }
   ],
   "source": [
    "print(classification_report(y_h1n1,gbm_pred_h1n1))"
   ]
  },
  {
   "cell_type": "code",
   "execution_count": 103,
   "id": "273ead8d",
   "metadata": {},
   "outputs": [],
   "source": [
    "gbmodel_ssnl=gb.fit(X,y_seasonal)"
   ]
  },
  {
   "cell_type": "code",
   "execution_count": 104,
   "id": "dd9f4a22",
   "metadata": {},
   "outputs": [
    {
     "data": {
      "text/plain": [
       "0.8398921631033063"
      ]
     },
     "execution_count": 104,
     "metadata": {},
     "output_type": "execute_result"
    }
   ],
   "source": [
    "gbmodel_ssnl.score(X,y_seasonal)"
   ]
  },
  {
   "cell_type": "code",
   "execution_count": 105,
   "id": "464e9bc7",
   "metadata": {},
   "outputs": [],
   "source": [
    "gbm_pred_ssnl=gb.predict(X)"
   ]
  },
  {
   "cell_type": "code",
   "execution_count": 106,
   "id": "f977a42d",
   "metadata": {},
   "outputs": [
    {
     "data": {
      "text/plain": [
       "<sklearn.metrics._plot.roc_curve.RocCurveDisplay at 0x22729fc5e50>"
      ]
     },
     "execution_count": 106,
     "metadata": {},
     "output_type": "execute_result"
    },
    {
     "data": {
      "image/png": "[encoded data removed]",
      "text/plain": [
       "<Figure size 432x288 with 1 Axes>"
      ]
     },
     "metadata": {
      "needs_background": "light"
     },
     "output_type": "display_data"
    }
   ],
   "source": [
    "plot_roc_curve(gbmodel_ssnl,X,y_seasonal)"
   ]
  },
  {
   "cell_type": "code",
   "execution_count": 107,
   "id": "d5297be9",
   "metadata": {},
   "outputs": [
    {
     "name": "stdout",
     "output_type": "stream",
     "text": [
      "              precision    recall  f1-score   support\n",
      "\n",
      "           0       0.84      0.86      0.85     14272\n",
      "           1       0.84      0.82      0.83     12435\n",
      "\n",
      "    accuracy                           0.84     26707\n",
      "   macro avg       0.84      0.84      0.84     26707\n",
      "weighted avg       0.84      0.84      0.84     26707\n",
      "\n"
     ]
    }
   ],
   "source": [
    "print(classification_report(y_seasonal,gbm_pred_ssnl))"
   ]
  },
  {
   "cell_type": "code",
   "execution_count": 108,
   "id": "3ddb214d",
   "metadata": {},
   "outputs": [
    {
     "data": {
      "text/plain": [
       "array([0.84813539, 0.84933353, 0.8494833 , 0.84152187])"
      ]
     },
     "execution_count": 108,
     "metadata": {},
     "output_type": "execute_result"
    }
   ],
   "source": [
    "cross_val_score(gbmodel_h1n1,X,y_h1n1,cv=4)"
   ]
  },
  {
   "cell_type": "code",
   "execution_count": 109,
   "id": "24e4b7f8",
   "metadata": {},
   "outputs": [],
   "source": [
    "gbm_pred_test_h1n1=gb.predict_proba(testdf)"
   ]
  },
  {
   "cell_type": "code",
   "execution_count": 110,
   "id": "b6ffc1e1",
   "metadata": {},
   "outputs": [],
   "source": [
    "gbm_pred_test_ssnl=gb.predict_proba(testdf)"
   ]
  },
  {
   "cell_type": "code",
   "execution_count": 111,
   "id": "3a57190a",
   "metadata": {},
   "outputs": [
    {
     "data": {
      "text/plain": [
       "array([[0.83734706, 0.16265294],\n",
       "       [0.97446279, 0.02553721],\n",
       "       [0.15693552, 0.84306448],\n",
       "       [0.0787391 , 0.9212609 ],\n",
       "       [0.62531309, 0.37468691],\n",
       "       [0.0202475 , 0.9797525 ]])"
      ]
     },
     "execution_count": 111,
     "metadata": {},
     "output_type": "execute_result"
    }
   ],
   "source": [
    "gbm_pred_test_h1n1[:6]"
   ]
  },
  {
   "cell_type": "code",
   "execution_count": 112,
   "id": "0c019e0a",
   "metadata": {},
   "outputs": [
    {
     "data": {
      "text/plain": [
       "array([[0.83734706, 0.16265294],\n",
       "       [0.97446279, 0.02553721],\n",
       "       [0.15693552, 0.84306448],\n",
       "       [0.0787391 , 0.9212609 ],\n",
       "       [0.62531309, 0.37468691],\n",
       "       [0.0202475 , 0.9797525 ]])"
      ]
     },
     "execution_count": 112,
     "metadata": {},
     "output_type": "execute_result"
    }
   ],
   "source": [
    "gbm_pred_test_ssnl[:6]"
   ]
  },
  {
   "cell_type": "code",
   "execution_count": 113,
   "id": "11b0b67d",
   "metadata": {},
   "outputs": [],
   "source": [
    "pd.DataFrame(gbm_pred_test_h1n1).to_csv(\"h1n1_gbm_samp.csv\")"
   ]
  },
  {
   "cell_type": "code",
   "execution_count": 114,
   "id": "b9c29275",
   "metadata": {},
   "outputs": [],
   "source": [
    "#------------------------------------------------------------------\n",
    "# svm\n",
    "from sklearn.svm import SVC"
   ]
  },
  {
   "cell_type": "code",
   "execution_count": 115,
   "id": "a8059647",
   "metadata": {},
   "outputs": [],
   "source": [
    "svm=SVC()"
   ]
  },
  {
   "cell_type": "code",
   "execution_count": 116,
   "id": "b0ec0b78",
   "metadata": {},
   "outputs": [],
   "source": [
    "svm_model_h1n1=svm.fit(X,y_h1n1)"
   ]
  },
  {
   "cell_type": "code",
   "execution_count": 117,
   "id": "c20aca9a",
   "metadata": {},
   "outputs": [
    {
     "data": {
      "text/plain": [
       "0.8520238139813532"
      ]
     },
     "execution_count": 117,
     "metadata": {},
     "output_type": "execute_result"
    }
   ],
   "source": [
    "svm_model_h1n1.score(X,y_h1n1)"
   ]
  },
  {
   "cell_type": "code",
   "execution_count": 118,
   "id": "89a2ab2c",
   "metadata": {},
   "outputs": [],
   "source": [
    "svm_pred_h1n1=svm.predict(X)"
   ]
  },
  {
   "cell_type": "code",
   "execution_count": 119,
   "id": "caacea57",
   "metadata": {},
   "outputs": [
    {
     "data": {
      "text/plain": [
       "<sklearn.metrics._plot.roc_curve.RocCurveDisplay at 0x2272a198190>"
      ]
     },
     "execution_count": 119,
     "metadata": {},
     "output_type": "execute_result"
    },
    {
     "data": {
      "image/png": "[encoded data removed]",
      "text/plain": [
       "<Figure size 432x288 with 1 Axes>"
      ]
     },
     "metadata": {
      "needs_background": "light"
     },
     "output_type": "display_data"
    }
   ],
   "source": [
    "plot_roc_curve(svm_model_h1n1,X,y_h1n1)"
   ]
  },
  {
   "cell_type": "code",
   "execution_count": 120,
   "id": "33350308",
   "metadata": {},
   "outputs": [
    {
     "name": "stdout",
     "output_type": "stream",
     "text": [
      "              precision    recall  f1-score   support\n",
      "\n",
      "           0       0.86      0.97      0.91     21033\n",
      "           1       0.81      0.40      0.53      5674\n",
      "\n",
      "    accuracy                           0.85     26707\n",
      "   macro avg       0.83      0.69      0.72     26707\n",
      "weighted avg       0.85      0.85      0.83     26707\n",
      "\n"
     ]
    }
   ],
   "source": [
    "print(classification_report(y_h1n1,svm_pred_h1n1))"
   ]
  },
  {
   "cell_type": "code",
   "execution_count": 121,
   "id": "05ffd2c8",
   "metadata": {},
   "outputs": [],
   "source": [
    "svm_model_ssnl=svm.fit(X,y_seasonal)"
   ]
  },
  {
   "cell_type": "code",
   "execution_count": 122,
   "id": "f1b8f330",
   "metadata": {},
   "outputs": [
    {
     "data": {
      "text/plain": [
       "0.7904294754184297"
      ]
     },
     "execution_count": 122,
     "metadata": {},
     "output_type": "execute_result"
    }
   ],
   "source": [
    "svm_model_ssnl.score(X,y_seasonal)"
   ]
  },
  {
   "cell_type": "code",
   "execution_count": 123,
   "id": "e0de38da",
   "metadata": {},
   "outputs": [],
   "source": [
    "svm_pred_ssnl=svm_model_ssnl.predict(X)"
   ]
  },
  {
   "cell_type": "code",
   "execution_count": 124,
   "id": "4bc4a00e",
   "metadata": {},
   "outputs": [
    {
     "data": {
      "text/plain": [
       "<sklearn.metrics._plot.roc_curve.RocCurveDisplay at 0x2272a172eb0>"
      ]
     },
     "execution_count": 124,
     "metadata": {},
     "output_type": "execute_result"
    },
    {
     "data": {
      "image/png": "[encoded data removed]",
      "text/plain": [
       "<Figure size 432x288 with 1 Axes>"
      ]
     },
     "metadata": {
      "needs_background": "light"
     },
     "output_type": "display_data"
    }
   ],
   "source": [
    "plot_roc_curve(svm_model_ssnl,X,y_seasonal)"
   ]
  },
  {
   "cell_type": "code",
   "execution_count": 125,
   "id": "c2cfc6e7",
   "metadata": {},
   "outputs": [
    {
     "name": "stdout",
     "output_type": "stream",
     "text": [
      "              precision    recall  f1-score   support\n",
      "\n",
      "           0       0.79      0.83      0.81     14272\n",
      "           1       0.79      0.74      0.77     12435\n",
      "\n",
      "    accuracy                           0.79     26707\n",
      "   macro avg       0.79      0.79      0.79     26707\n",
      "weighted avg       0.79      0.79      0.79     26707\n",
      "\n"
     ]
    }
   ],
   "source": [
    "print(classification_report(y_seasonal,svm_pred_ssnl))"
   ]
  },
  {
   "cell_type": "code",
   "execution_count": 126,
   "id": "9f09dd51",
   "metadata": {},
   "outputs": [],
   "source": [
    "svm_pred_test_h1n1=svm_model_h1n1.predict(testdf)"
   ]
  },
  {
   "cell_type": "code",
   "execution_count": null,
   "id": "558c8b09",
   "metadata": {},
   "outputs": [],
   "source": []
  }
 ],
 "metadata": {
  "kernelspec": {
   "display_name": "Python 3 (ipykernel)",
   "language": "python",
   "name": "python3"
  },
  "language_info": {
   "codemirror_mode": {
    "name": "ipython",
    "version": 3
   },
   "file_extension": ".py",
   "mimetype": "text/x-python",
   "name": "python",
   "nbconvert_exporter": "python",
   "pygments_lexer": "ipython3",
   "version": "3.9.7"
  }
 },
 "nbformat": 4,
 "nbformat_minor": 5
}
