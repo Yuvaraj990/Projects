{
 "cells": [
  {
   "cell_type": "code",
   "execution_count": 1,
   "id": "7108cdf5",
   "metadata": {},
   "outputs": [],
   "source": [
    "import pandas as pd\n",
    "import numpy as np\n",
    "import matplotlib.pyplot as plt\n",
    "%matplotlib inline"
   ]
  },
  {
   "cell_type": "code",
   "execution_count": 2,
   "id": "44e7454a",
   "metadata": {},
   "outputs": [],
   "source": [
    "import warnings\n",
    "warnings.filterwarnings('ignore')\n",
    "import seaborn as sns"
   ]
  },
  {
   "cell_type": "code",
   "execution_count": 4,
   "id": "54c82d5a",
   "metadata": {},
   "outputs": [],
   "source": [
    "housetrain=pd.read_csv('house-train.csv')"
   ]
  },
  {
   "cell_type": "code",
   "execution_count": 5,
   "id": "5a2c08ef",
   "metadata": {},
   "outputs": [
    {
     "data": {
      "text/html": [
       "<div>\n",
       "<style scoped>\n",
       "    .dataframe tbody tr th:only-of-type {\n",
       "        vertical-align: middle;\n",
       "    }\n",
       "\n",
       "    .dataframe tbody tr th {\n",
       "        vertical-align: top;\n",
       "    }\n",
       "\n",
       "    .dataframe thead th {\n",
       "        text-align: right;\n",
       "    }\n",
       "</style>\n",
       "<table border=\"1\" class=\"dataframe\">\n",
       "  <thead>\n",
       "    <tr style=\"text-align: right;\">\n",
       "      <th></th>\n",
       "      <th>Id</th>\n",
       "      <th>MSSubClass</th>\n",
       "      <th>MSZoning</th>\n",
       "      <th>LotFrontage</th>\n",
       "      <th>LotArea</th>\n",
       "      <th>Street</th>\n",
       "      <th>Alley</th>\n",
       "      <th>LotShape</th>\n",
       "      <th>LandContour</th>\n",
       "      <th>Utilities</th>\n",
       "      <th>...</th>\n",
       "      <th>PoolArea</th>\n",
       "      <th>PoolQC</th>\n",
       "      <th>Fence</th>\n",
       "      <th>MiscFeature</th>\n",
       "      <th>MiscVal</th>\n",
       "      <th>MoSold</th>\n",
       "      <th>YrSold</th>\n",
       "      <th>SaleType</th>\n",
       "      <th>SaleCondition</th>\n",
       "      <th>SalePrice</th>\n",
       "    </tr>\n",
       "  </thead>\n",
       "  <tbody>\n",
       "    <tr>\n",
       "      <th>0</th>\n",
       "      <td>1</td>\n",
       "      <td>60</td>\n",
       "      <td>RL</td>\n",
       "      <td>65.0</td>\n",
       "      <td>8450</td>\n",
       "      <td>Pave</td>\n",
       "      <td>NaN</td>\n",
       "      <td>Reg</td>\n",
       "      <td>Lvl</td>\n",
       "      <td>AllPub</td>\n",
       "      <td>...</td>\n",
       "      <td>0</td>\n",
       "      <td>NaN</td>\n",
       "      <td>NaN</td>\n",
       "      <td>NaN</td>\n",
       "      <td>0</td>\n",
       "      <td>2</td>\n",
       "      <td>2008</td>\n",
       "      <td>WD</td>\n",
       "      <td>Normal</td>\n",
       "      <td>208500</td>\n",
       "    </tr>\n",
       "    <tr>\n",
       "      <th>1</th>\n",
       "      <td>2</td>\n",
       "      <td>20</td>\n",
       "      <td>RL</td>\n",
       "      <td>80.0</td>\n",
       "      <td>9600</td>\n",
       "      <td>Pave</td>\n",
       "      <td>NaN</td>\n",
       "      <td>Reg</td>\n",
       "      <td>Lvl</td>\n",
       "      <td>AllPub</td>\n",
       "      <td>...</td>\n",
       "      <td>0</td>\n",
       "      <td>NaN</td>\n",
       "      <td>NaN</td>\n",
       "      <td>NaN</td>\n",
       "      <td>0</td>\n",
       "      <td>5</td>\n",
       "      <td>2007</td>\n",
       "      <td>WD</td>\n",
       "      <td>Normal</td>\n",
       "      <td>181500</td>\n",
       "    </tr>\n",
       "    <tr>\n",
       "      <th>2</th>\n",
       "      <td>3</td>\n",
       "      <td>60</td>\n",
       "      <td>RL</td>\n",
       "      <td>68.0</td>\n",
       "      <td>11250</td>\n",
       "      <td>Pave</td>\n",
       "      <td>NaN</td>\n",
       "      <td>IR1</td>\n",
       "      <td>Lvl</td>\n",
       "      <td>AllPub</td>\n",
       "      <td>...</td>\n",
       "      <td>0</td>\n",
       "      <td>NaN</td>\n",
       "      <td>NaN</td>\n",
       "      <td>NaN</td>\n",
       "      <td>0</td>\n",
       "      <td>9</td>\n",
       "      <td>2008</td>\n",
       "      <td>WD</td>\n",
       "      <td>Normal</td>\n",
       "      <td>223500</td>\n",
       "    </tr>\n",
       "    <tr>\n",
       "      <th>3</th>\n",
       "      <td>4</td>\n",
       "      <td>70</td>\n",
       "      <td>RL</td>\n",
       "      <td>60.0</td>\n",
       "      <td>9550</td>\n",
       "      <td>Pave</td>\n",
       "      <td>NaN</td>\n",
       "      <td>IR1</td>\n",
       "      <td>Lvl</td>\n",
       "      <td>AllPub</td>\n",
       "      <td>...</td>\n",
       "      <td>0</td>\n",
       "      <td>NaN</td>\n",
       "      <td>NaN</td>\n",
       "      <td>NaN</td>\n",
       "      <td>0</td>\n",
       "      <td>2</td>\n",
       "      <td>2006</td>\n",
       "      <td>WD</td>\n",
       "      <td>Abnorml</td>\n",
       "      <td>140000</td>\n",
       "    </tr>\n",
       "    <tr>\n",
       "      <th>4</th>\n",
       "      <td>5</td>\n",
       "      <td>60</td>\n",
       "      <td>RL</td>\n",
       "      <td>84.0</td>\n",
       "      <td>14260</td>\n",
       "      <td>Pave</td>\n",
       "      <td>NaN</td>\n",
       "      <td>IR1</td>\n",
       "      <td>Lvl</td>\n",
       "      <td>AllPub</td>\n",
       "      <td>...</td>\n",
       "      <td>0</td>\n",
       "      <td>NaN</td>\n",
       "      <td>NaN</td>\n",
       "      <td>NaN</td>\n",
       "      <td>0</td>\n",
       "      <td>12</td>\n",
       "      <td>2008</td>\n",
       "      <td>WD</td>\n",
       "      <td>Normal</td>\n",
       "      <td>250000</td>\n",
       "    </tr>\n",
       "  </tbody>\n",
       "</table>\n",
       "<p>5 rows × 81 columns</p>\n",
       "</div>"
      ],
      "text/plain": [
       "   Id  MSSubClass MSZoning  LotFrontage  LotArea Street Alley LotShape  \\\n",
       "0   1          60       RL         65.0     8450   Pave   NaN      Reg   \n",
       "1   2          20       RL         80.0     9600   Pave   NaN      Reg   \n",
       "2   3          60       RL         68.0    11250   Pave   NaN      IR1   \n",
       "3   4          70       RL         60.0     9550   Pave   NaN      IR1   \n",
       "4   5          60       RL         84.0    14260   Pave   NaN      IR1   \n",
       "\n",
       "  LandContour Utilities  ... PoolArea PoolQC Fence MiscFeature MiscVal MoSold  \\\n",
       "0         Lvl    AllPub  ...        0    NaN   NaN         NaN       0      2   \n",
       "1         Lvl    AllPub  ...        0    NaN   NaN         NaN       0      5   \n",
       "2         Lvl    AllPub  ...        0    NaN   NaN         NaN       0      9   \n",
       "3         Lvl    AllPub  ...        0    NaN   NaN         NaN       0      2   \n",
       "4         Lvl    AllPub  ...        0    NaN   NaN         NaN       0     12   \n",
       "\n",
       "  YrSold  SaleType  SaleCondition  SalePrice  \n",
       "0   2008        WD         Normal     208500  \n",
       "1   2007        WD         Normal     181500  \n",
       "2   2008        WD         Normal     223500  \n",
       "3   2006        WD        Abnorml     140000  \n",
       "4   2008        WD         Normal     250000  \n",
       "\n",
       "[5 rows x 81 columns]"
      ]
     },
     "execution_count": 5,
     "metadata": {},
     "output_type": "execute_result"
    }
   ],
   "source": [
    "housetrain.head()"
   ]
  },
  {
   "cell_type": "code",
   "execution_count": 6,
   "id": "b3388c4c",
   "metadata": {},
   "outputs": [],
   "source": [
    "housetest=pd.read_csv('house-test.csv')"
   ]
  },
  {
   "cell_type": "code",
   "execution_count": 7,
   "id": "2ed70e90",
   "metadata": {},
   "outputs": [
    {
     "name": "stdout",
     "output_type": "stream",
     "text": [
      "(1460, 81)\n",
      "(1459, 80)\n"
     ]
    }
   ],
   "source": [
    "print(housetrain.shape)\n",
    "print(housetest.shape)"
   ]
  },
  {
   "cell_type": "code",
   "execution_count": 8,
   "id": "1b937e6f",
   "metadata": {},
   "outputs": [
    {
     "name": "stdout",
     "output_type": "stream",
     "text": [
      "PoolQC         1453\n",
      "MiscFeature    1406\n",
      "Alley          1369\n",
      "Fence          1179\n",
      "FireplaceQu     690\n",
      "               ... \n",
      "ExterQual         0\n",
      "Exterior2nd       0\n",
      "Exterior1st       0\n",
      "RoofMatl          0\n",
      "SalePrice         0\n",
      "Length: 81, dtype: int64\n"
     ]
    }
   ],
   "source": [
    "print(housetrain.isnull().sum().sort_values(ascending=False))"
   ]
  },
  {
   "cell_type": "code",
   "execution_count": 9,
   "id": "1bff6c7d",
   "metadata": {},
   "outputs": [],
   "source": [
    "housetest['SalePrice']='test'"
   ]
  },
  {
   "cell_type": "code",
   "execution_count": 10,
   "id": "eda0b694",
   "metadata": {},
   "outputs": [],
   "source": [
    "combineddf=pd.concat([housetrain,housetest],axis=0)"
   ]
  },
  {
   "cell_type": "code",
   "execution_count": 11,
   "id": "09463121",
   "metadata": {},
   "outputs": [
    {
     "name": "stdout",
     "output_type": "stream",
     "text": [
      "(2919, 81)\n"
     ]
    }
   ],
   "source": [
    "print(combineddf.shape)"
   ]
  },
  {
   "cell_type": "code",
   "execution_count": 12,
   "id": "7579802f",
   "metadata": {},
   "outputs": [
    {
     "data": {
      "text/plain": [
       "Id                 int64\n",
       "MSSubClass         int64\n",
       "MSZoning          object\n",
       "LotFrontage      float64\n",
       "LotArea            int64\n",
       "                  ...   \n",
       "MoSold             int64\n",
       "YrSold             int64\n",
       "SaleType          object\n",
       "SaleCondition     object\n",
       "SalePrice         object\n",
       "Length: 81, dtype: object"
      ]
     },
     "execution_count": 12,
     "metadata": {},
     "output_type": "execute_result"
    }
   ],
   "source": [
    "combineddf.dtypes"
   ]
  },
  {
   "cell_type": "code",
   "execution_count": 13,
   "id": "f52c4f78",
   "metadata": {},
   "outputs": [],
   "source": [
    "numcols=combineddf.select_dtypes(include=np.number)\n",
    "objcols=combineddf.select_dtypes(include=['object'])"
   ]
  },
  {
   "cell_type": "code",
   "execution_count": 14,
   "id": "f0ca5589",
   "metadata": {},
   "outputs": [
    {
     "data": {
      "text/plain": [
       "Id                 int64\n",
       "MSSubClass         int64\n",
       "LotFrontage      float64\n",
       "LotArea            int64\n",
       "OverallQual        int64\n",
       "OverallCond        int64\n",
       "YearBuilt          int64\n",
       "YearRemodAdd       int64\n",
       "MasVnrArea       float64\n",
       "BsmtFinSF1       float64\n",
       "BsmtFinSF2       float64\n",
       "BsmtUnfSF        float64\n",
       "TotalBsmtSF      float64\n",
       "1stFlrSF           int64\n",
       "2ndFlrSF           int64\n",
       "LowQualFinSF       int64\n",
       "GrLivArea          int64\n",
       "BsmtFullBath     float64\n",
       "BsmtHalfBath     float64\n",
       "FullBath           int64\n",
       "HalfBath           int64\n",
       "BedroomAbvGr       int64\n",
       "KitchenAbvGr       int64\n",
       "TotRmsAbvGrd       int64\n",
       "Fireplaces         int64\n",
       "GarageYrBlt      float64\n",
       "GarageCars       float64\n",
       "GarageArea       float64\n",
       "WoodDeckSF         int64\n",
       "OpenPorchSF        int64\n",
       "EnclosedPorch      int64\n",
       "3SsnPorch          int64\n",
       "ScreenPorch        int64\n",
       "PoolArea           int64\n",
       "MiscVal            int64\n",
       "MoSold             int64\n",
       "YrSold             int64\n",
       "dtype: object"
      ]
     },
     "execution_count": 14,
     "metadata": {},
     "output_type": "execute_result"
    }
   ],
   "source": [
    "numcols.dtypes"
   ]
  },
  {
   "cell_type": "code",
   "execution_count": 15,
   "id": "67484fa7",
   "metadata": {},
   "outputs": [
    {
     "data": {
      "text/plain": [
       "MSZoning         object\n",
       "Street           object\n",
       "Alley            object\n",
       "LotShape         object\n",
       "LandContour      object\n",
       "Utilities        object\n",
       "LotConfig        object\n",
       "LandSlope        object\n",
       "Neighborhood     object\n",
       "Condition1       object\n",
       "Condition2       object\n",
       "BldgType         object\n",
       "HouseStyle       object\n",
       "RoofStyle        object\n",
       "RoofMatl         object\n",
       "Exterior1st      object\n",
       "Exterior2nd      object\n",
       "MasVnrType       object\n",
       "ExterQual        object\n",
       "ExterCond        object\n",
       "Foundation       object\n",
       "BsmtQual         object\n",
       "BsmtCond         object\n",
       "BsmtExposure     object\n",
       "BsmtFinType1     object\n",
       "BsmtFinType2     object\n",
       "Heating          object\n",
       "HeatingQC        object\n",
       "CentralAir       object\n",
       "Electrical       object\n",
       "KitchenQual      object\n",
       "Functional       object\n",
       "FireplaceQu      object\n",
       "GarageType       object\n",
       "GarageFinish     object\n",
       "GarageQual       object\n",
       "GarageCond       object\n",
       "PavedDrive       object\n",
       "PoolQC           object\n",
       "Fence            object\n",
       "MiscFeature      object\n",
       "SaleType         object\n",
       "SaleCondition    object\n",
       "SalePrice        object\n",
       "dtype: object"
      ]
     },
     "execution_count": 15,
     "metadata": {},
     "output_type": "execute_result"
    }
   ],
   "source": [
    "objcols.dtypes"
   ]
  },
  {
   "cell_type": "code",
   "execution_count": 16,
   "id": "90409616",
   "metadata": {},
   "outputs": [
    {
     "name": "stdout",
     "output_type": "stream",
     "text": [
      "(2919, 37)\n",
      "(2919, 44)\n"
     ]
    }
   ],
   "source": [
    "print(numcols.shape)\n",
    "print(objcols.shape)"
   ]
  },
  {
   "cell_type": "code",
   "execution_count": 17,
   "id": "8a2fd3b2",
   "metadata": {},
   "outputs": [
    {
     "data": {
      "text/plain": [
       "LotFrontage      486\n",
       "GarageYrBlt      159\n",
       "MasVnrArea        23\n",
       "BsmtHalfBath       2\n",
       "BsmtFullBath       2\n",
       "BsmtFinSF2         1\n",
       "GarageCars         1\n",
       "GarageArea         1\n",
       "TotalBsmtSF        1\n",
       "BsmtUnfSF          1\n",
       "BsmtFinSF1         1\n",
       "KitchenAbvGr       0\n",
       "3SsnPorch          0\n",
       "EnclosedPorch      0\n",
       "OpenPorchSF        0\n",
       "WoodDeckSF         0\n",
       "ScreenPorch        0\n",
       "PoolArea           0\n",
       "MiscVal            0\n",
       "MoSold             0\n",
       "Fireplaces         0\n",
       "TotRmsAbvGrd       0\n",
       "Id                 0\n",
       "BedroomAbvGr       0\n",
       "HalfBath           0\n",
       "FullBath           0\n",
       "MSSubClass         0\n",
       "GrLivArea          0\n",
       "LowQualFinSF       0\n",
       "2ndFlrSF           0\n",
       "1stFlrSF           0\n",
       "YearRemodAdd       0\n",
       "YearBuilt          0\n",
       "OverallCond        0\n",
       "OverallQual        0\n",
       "LotArea            0\n",
       "YrSold             0\n",
       "dtype: int64"
      ]
     },
     "execution_count": 17,
     "metadata": {},
     "output_type": "execute_result"
    }
   ],
   "source": [
    "numcols.isnull().sum().sort_values(ascending=False)"
   ]
  },
  {
   "cell_type": "code",
   "execution_count": 18,
   "id": "7daee330",
   "metadata": {},
   "outputs": [
    {
     "data": {
      "text/plain": [
       "PoolQC           2909\n",
       "MiscFeature      2814\n",
       "Alley            2721\n",
       "Fence            2348\n",
       "FireplaceQu      1420\n",
       "GarageCond        159\n",
       "GarageQual        159\n",
       "GarageFinish      159\n",
       "GarageType        157\n",
       "BsmtCond           82\n",
       "BsmtExposure       82\n",
       "BsmtQual           81\n",
       "BsmtFinType2       80\n",
       "BsmtFinType1       79\n",
       "MasVnrType         24\n",
       "MSZoning            4\n",
       "Utilities           2\n",
       "Functional          2\n",
       "Exterior2nd         1\n",
       "Electrical          1\n",
       "SaleType            1\n",
       "Exterior1st         1\n",
       "KitchenQual         1\n",
       "RoofStyle           0\n",
       "Neighborhood        0\n",
       "SaleCondition       0\n",
       "ExterQual           0\n",
       "LotShape            0\n",
       "LandContour         0\n",
       "ExterCond           0\n",
       "PavedDrive          0\n",
       "LotConfig           0\n",
       "LandSlope           0\n",
       "Condition1          0\n",
       "HouseStyle          0\n",
       "Condition2          0\n",
       "Foundation          0\n",
       "RoofMatl            0\n",
       "Street              0\n",
       "CentralAir          0\n",
       "HeatingQC           0\n",
       "Heating             0\n",
       "BldgType            0\n",
       "SalePrice           0\n",
       "dtype: int64"
      ]
     },
     "execution_count": 18,
     "metadata": {},
     "output_type": "execute_result"
    }
   ],
   "source": [
    "objcols.isnull().sum().sort_values(ascending=False)"
   ]
  },
  {
   "cell_type": "code",
   "execution_count": 19,
   "id": "14da8a77",
   "metadata": {},
   "outputs": [],
   "source": [
    "nonecols=['PoolQC','MiscFeature','Alley','Fence','FireplaceQu']"
   ]
  },
  {
   "cell_type": "code",
   "execution_count": 20,
   "id": "60fcbaba",
   "metadata": {},
   "outputs": [],
   "source": [
    "for i in nonecols:\n",
    "    objcols[i]=objcols[i].fillna('not available')"
   ]
  },
  {
   "cell_type": "code",
   "execution_count": 21,
   "id": "4b1d30c1",
   "metadata": {},
   "outputs": [
    {
     "data": {
      "text/plain": [
       "GarageCond       159\n",
       "GarageQual       159\n",
       "GarageFinish     159\n",
       "GarageType       157\n",
       "BsmtCond          82\n",
       "BsmtExposure      82\n",
       "BsmtQual          81\n",
       "BsmtFinType2      80\n",
       "BsmtFinType1      79\n",
       "MasVnrType        24\n",
       "MSZoning           4\n",
       "Functional         2\n",
       "Utilities          2\n",
       "KitchenQual        1\n",
       "SaleType           1\n",
       "Exterior1st        1\n",
       "Exterior2nd        1\n",
       "Electrical         1\n",
       "LotShape           0\n",
       "FireplaceQu        0\n",
       "LandContour        0\n",
       "BldgType           0\n",
       "Alley              0\n",
       "PavedDrive         0\n",
       "Fence              0\n",
       "MiscFeature        0\n",
       "SaleCondition      0\n",
       "PoolQC             0\n",
       "HeatingQC          0\n",
       "CentralAir         0\n",
       "HouseStyle         0\n",
       "Heating            0\n",
       "LotConfig          0\n",
       "LandSlope          0\n",
       "Neighborhood       0\n",
       "Street             0\n",
       "Condition1         0\n",
       "Foundation         0\n",
       "ExterCond          0\n",
       "ExterQual          0\n",
       "Condition2         0\n",
       "RoofMatl           0\n",
       "RoofStyle          0\n",
       "SalePrice          0\n",
       "dtype: int64"
      ]
     },
     "execution_count": 21,
     "metadata": {},
     "output_type": "execute_result"
    }
   ],
   "source": [
    "objcols.isnull().sum().sort_values(ascending=False)"
   ]
  },
  {
   "cell_type": "code",
   "execution_count": 22,
   "id": "9462e26f",
   "metadata": {},
   "outputs": [],
   "source": [
    "bsmtcols=['BsmtCond','BsmtExposure','BsmtQual','BsmtFinType2','BsmtFinType1']"
   ]
  },
  {
   "cell_type": "code",
   "execution_count": 23,
   "id": "3697f92e",
   "metadata": {},
   "outputs": [
    {
     "name": "stdout",
     "output_type": "stream",
     "text": [
      "TA     2606\n",
      "Gd      122\n",
      "Fa      104\n",
      "NaN      82\n",
      "Po        5\n",
      "Name: BsmtCond, dtype: int64\n",
      "No     1904\n",
      "Av      418\n",
      "Gd      276\n",
      "Mn      239\n",
      "NaN      82\n",
      "Name: BsmtExposure, dtype: int64\n",
      "TA     1283\n",
      "Gd     1209\n",
      "Ex      258\n",
      "Fa       88\n",
      "NaN      81\n",
      "Name: BsmtQual, dtype: int64\n",
      "Unf    2493\n",
      "Rec     105\n",
      "LwQ      87\n",
      "NaN      80\n",
      "BLQ      68\n",
      "ALQ      52\n",
      "GLQ      34\n",
      "Name: BsmtFinType2, dtype: int64\n",
      "Unf    851\n",
      "GLQ    849\n",
      "ALQ    429\n",
      "Rec    288\n",
      "BLQ    269\n",
      "LwQ    154\n",
      "NaN     79\n",
      "Name: BsmtFinType1, dtype: int64\n"
     ]
    }
   ],
   "source": [
    "for i in bsmtcols:\n",
    "    bsmtfreq=objcols[i].value_counts(dropna=False)\n",
    "    print(bsmtfreq)"
   ]
  },
  {
   "cell_type": "code",
   "execution_count": 24,
   "id": "16ae19ea",
   "metadata": {},
   "outputs": [],
   "source": [
    "for i in objcols.columns:\n",
    "    objcols[i]=objcols[i].fillna(objcols[i].value_counts().idxmax())"
   ]
  },
  {
   "cell_type": "code",
   "execution_count": 25,
   "id": "20b8f2a1",
   "metadata": {},
   "outputs": [
    {
     "data": {
      "text/plain": [
       "MSZoning         0\n",
       "Street           0\n",
       "BsmtFinType1     0\n",
       "BsmtFinType2     0\n",
       "Heating          0\n",
       "HeatingQC        0\n",
       "CentralAir       0\n",
       "Electrical       0\n",
       "KitchenQual      0\n",
       "Functional       0\n",
       "FireplaceQu      0\n",
       "GarageType       0\n",
       "GarageFinish     0\n",
       "GarageQual       0\n",
       "GarageCond       0\n",
       "PavedDrive       0\n",
       "PoolQC           0\n",
       "Fence            0\n",
       "MiscFeature      0\n",
       "SaleType         0\n",
       "SaleCondition    0\n",
       "BsmtExposure     0\n",
       "BsmtCond         0\n",
       "BsmtQual         0\n",
       "Condition2       0\n",
       "Alley            0\n",
       "LotShape         0\n",
       "LandContour      0\n",
       "Utilities        0\n",
       "LotConfig        0\n",
       "LandSlope        0\n",
       "Neighborhood     0\n",
       "Condition1       0\n",
       "BldgType         0\n",
       "Foundation       0\n",
       "HouseStyle       0\n",
       "RoofStyle        0\n",
       "RoofMatl         0\n",
       "Exterior1st      0\n",
       "Exterior2nd      0\n",
       "MasVnrType       0\n",
       "ExterQual        0\n",
       "ExterCond        0\n",
       "SalePrice        0\n",
       "dtype: int64"
      ]
     },
     "execution_count": 25,
     "metadata": {},
     "output_type": "execute_result"
    }
   ],
   "source": [
    "objcols.isnull().sum().sort_values(ascending=False)"
   ]
  },
  {
   "cell_type": "code",
   "execution_count": 26,
   "id": "844aaaa8",
   "metadata": {},
   "outputs": [],
   "source": [
    "for i in numcols:\n",
    "    numcols[i]=numcols[i].fillna(numcols[i].median())"
   ]
  },
  {
   "cell_type": "code",
   "execution_count": 27,
   "id": "ec8868e0",
   "metadata": {},
   "outputs": [
    {
     "data": {
      "text/plain": [
       "Id               0\n",
       "FullBath         0\n",
       "BedroomAbvGr     0\n",
       "KitchenAbvGr     0\n",
       "TotRmsAbvGrd     0\n",
       "Fireplaces       0\n",
       "GarageYrBlt      0\n",
       "GarageCars       0\n",
       "GarageArea       0\n",
       "WoodDeckSF       0\n",
       "OpenPorchSF      0\n",
       "EnclosedPorch    0\n",
       "3SsnPorch        0\n",
       "ScreenPorch      0\n",
       "PoolArea         0\n",
       "MiscVal          0\n",
       "MoSold           0\n",
       "HalfBath         0\n",
       "BsmtHalfBath     0\n",
       "MSSubClass       0\n",
       "BsmtFullBath     0\n",
       "LotFrontage      0\n",
       "LotArea          0\n",
       "OverallQual      0\n",
       "OverallCond      0\n",
       "YearBuilt        0\n",
       "YearRemodAdd     0\n",
       "MasVnrArea       0\n",
       "BsmtFinSF1       0\n",
       "BsmtFinSF2       0\n",
       "BsmtUnfSF        0\n",
       "TotalBsmtSF      0\n",
       "1stFlrSF         0\n",
       "2ndFlrSF         0\n",
       "LowQualFinSF     0\n",
       "GrLivArea        0\n",
       "YrSold           0\n",
       "dtype: int64"
      ]
     },
     "execution_count": 27,
     "metadata": {},
     "output_type": "execute_result"
    }
   ],
   "source": [
    "numcols.isnull().sum().sort_values(ascending=False)"
   ]
  },
  {
   "cell_type": "code",
   "execution_count": 28,
   "id": "133e4a75",
   "metadata": {},
   "outputs": [
    {
     "data": {
      "text/plain": [
       "Index(['Id', 'MSSubClass', 'LotFrontage', 'LotArea', 'OverallQual',\n",
       "       'OverallCond', 'YearBuilt', 'YearRemodAdd', 'MasVnrArea', 'BsmtFinSF1',\n",
       "       'BsmtFinSF2', 'BsmtUnfSF', 'TotalBsmtSF', '1stFlrSF', '2ndFlrSF',\n",
       "       'LowQualFinSF', 'GrLivArea', 'BsmtFullBath', 'BsmtHalfBath', 'FullBath',\n",
       "       'HalfBath', 'BedroomAbvGr', 'KitchenAbvGr', 'TotRmsAbvGrd',\n",
       "       'Fireplaces', 'GarageYrBlt', 'GarageCars', 'GarageArea', 'WoodDeckSF',\n",
       "       'OpenPorchSF', 'EnclosedPorch', '3SsnPorch', 'ScreenPorch', 'PoolArea',\n",
       "       'MiscVal', 'MoSold', 'YrSold'],\n",
       "      dtype='object')"
      ]
     },
     "execution_count": 28,
     "metadata": {},
     "output_type": "execute_result"
    }
   ],
   "source": [
    "numcols.columns"
   ]
  },
  {
   "cell_type": "code",
   "execution_count": 29,
   "id": "ce7631e8",
   "metadata": {},
   "outputs": [],
   "source": [
    "catgrycols=numcols[['OverallQual','OverallCond', 'YearBuilt', 'YearRemodAdd','MoSold', 'YrSold']]"
   ]
  },
  {
   "cell_type": "code",
   "execution_count": 30,
   "id": "e05d37cb",
   "metadata": {},
   "outputs": [],
   "source": [
    "catgrycols['GarageYrBlt']=numcols.GarageYrBlt"
   ]
  },
  {
   "cell_type": "code",
   "execution_count": 31,
   "id": "b11d0b26",
   "metadata": {},
   "outputs": [],
   "source": [
    "numcols=numcols.drop(['OverallQual',\n",
    "       'OverallCond', 'YearBuilt', 'YearRemodAdd','MoSold', 'YrSold'],axis=1)"
   ]
  },
  {
   "cell_type": "code",
   "execution_count": 32,
   "id": "4a37295b",
   "metadata": {},
   "outputs": [
    {
     "data": {
      "text/plain": [
       "Index(['Id', 'MSSubClass', 'LotFrontage', 'LotArea', 'MasVnrArea',\n",
       "       'BsmtFinSF1', 'BsmtFinSF2', 'BsmtUnfSF', 'TotalBsmtSF', '1stFlrSF',\n",
       "       '2ndFlrSF', 'LowQualFinSF', 'GrLivArea', 'BsmtFullBath', 'BsmtHalfBath',\n",
       "       'FullBath', 'HalfBath', 'BedroomAbvGr', 'KitchenAbvGr', 'TotRmsAbvGrd',\n",
       "       'Fireplaces', 'GarageYrBlt', 'GarageCars', 'GarageArea', 'WoodDeckSF',\n",
       "       'OpenPorchSF', 'EnclosedPorch', '3SsnPorch', 'ScreenPorch', 'PoolArea',\n",
       "       'MiscVal'],\n",
       "      dtype='object')"
      ]
     },
     "execution_count": 32,
     "metadata": {},
     "output_type": "execute_result"
    }
   ],
   "source": [
    "numcols.columns"
   ]
  },
  {
   "cell_type": "code",
   "execution_count": 33,
   "id": "6b9857dd",
   "metadata": {},
   "outputs": [],
   "source": [
    "numcols=numcols.drop('GarageYrBlt',axis=1)"
   ]
  },
  {
   "cell_type": "code",
   "execution_count": 34,
   "id": "072dbc16",
   "metadata": {},
   "outputs": [
    {
     "name": "stdout",
     "output_type": "stream",
     "text": [
      "(2919, 44)\n",
      "(2919, 30)\n",
      "(2919, 7)\n"
     ]
    }
   ],
   "source": [
    "print(objcols.shape)\n",
    "print(numcols.shape)\n",
    "print(catgrycols.shape)"
   ]
  },
  {
   "cell_type": "code",
   "execution_count": 35,
   "id": "97d373c9",
   "metadata": {},
   "outputs": [],
   "source": [
    "from sklearn.preprocessing import LabelEncoder"
   ]
  },
  {
   "cell_type": "code",
   "execution_count": 36,
   "id": "07072c25",
   "metadata": {},
   "outputs": [],
   "source": [
    "le=LabelEncoder()"
   ]
  },
  {
   "cell_type": "code",
   "execution_count": 37,
   "id": "820f26a5",
   "metadata": {},
   "outputs": [],
   "source": [
    "numcols['Saleprice']=objcols.SalePrice"
   ]
  },
  {
   "cell_type": "code",
   "execution_count": 38,
   "id": "74e52d98",
   "metadata": {},
   "outputs": [
    {
     "data": {
      "text/plain": [
       "Index(['Id', 'MSSubClass', 'LotFrontage', 'LotArea', 'MasVnrArea',\n",
       "       'BsmtFinSF1', 'BsmtFinSF2', 'BsmtUnfSF', 'TotalBsmtSF', '1stFlrSF',\n",
       "       '2ndFlrSF', 'LowQualFinSF', 'GrLivArea', 'BsmtFullBath', 'BsmtHalfBath',\n",
       "       'FullBath', 'HalfBath', 'BedroomAbvGr', 'KitchenAbvGr', 'TotRmsAbvGrd',\n",
       "       'Fireplaces', 'GarageCars', 'GarageArea', 'WoodDeckSF', 'OpenPorchSF',\n",
       "       'EnclosedPorch', '3SsnPorch', 'ScreenPorch', 'PoolArea', 'MiscVal',\n",
       "       'Saleprice'],\n",
       "      dtype='object')"
      ]
     },
     "execution_count": 38,
     "metadata": {},
     "output_type": "execute_result"
    }
   ],
   "source": [
    "numcols.columns"
   ]
  },
  {
   "cell_type": "code",
   "execution_count": 39,
   "id": "3d99d167",
   "metadata": {},
   "outputs": [
    {
     "data": {
      "text/plain": [
       "Index(['MSZoning', 'Street', 'Alley', 'LotShape', 'LandContour', 'Utilities',\n",
       "       'LotConfig', 'LandSlope', 'Neighborhood', 'Condition1', 'Condition2',\n",
       "       'BldgType', 'HouseStyle', 'RoofStyle', 'RoofMatl', 'Exterior1st',\n",
       "       'Exterior2nd', 'MasVnrType', 'ExterQual', 'ExterCond', 'Foundation',\n",
       "       'BsmtQual', 'BsmtCond', 'BsmtExposure', 'BsmtFinType1', 'BsmtFinType2',\n",
       "       'Heating', 'HeatingQC', 'CentralAir', 'Electrical', 'KitchenQual',\n",
       "       'Functional', 'FireplaceQu', 'GarageType', 'GarageFinish', 'GarageQual',\n",
       "       'GarageCond', 'PavedDrive', 'PoolQC', 'Fence', 'MiscFeature',\n",
       "       'SaleType', 'SaleCondition', 'SalePrice'],\n",
       "      dtype='object')"
      ]
     },
     "execution_count": 39,
     "metadata": {},
     "output_type": "execute_result"
    }
   ],
   "source": [
    "objcols.columns"
   ]
  },
  {
   "cell_type": "code",
   "execution_count": 40,
   "id": "e0937204",
   "metadata": {},
   "outputs": [],
   "source": [
    "objcols=objcols.drop('SalePrice',axis=1)"
   ]
  },
  {
   "cell_type": "code",
   "execution_count": 41,
   "id": "f221be7e",
   "metadata": {},
   "outputs": [],
   "source": [
    "objcolsdummy=objcols.apply(le.fit_transform)"
   ]
  },
  {
   "cell_type": "code",
   "execution_count": 42,
   "id": "38d2c3a2",
   "metadata": {},
   "outputs": [],
   "source": [
    "combineddf=pd.concat([numcols,catgrycols,objcolsdummy],axis=1)"
   ]
  },
  {
   "cell_type": "code",
   "execution_count": 43,
   "id": "6f4bc350",
   "metadata": {},
   "outputs": [
    {
     "data": {
      "text/html": [
       "<div>\n",
       "<style scoped>\n",
       "    .dataframe tbody tr th:only-of-type {\n",
       "        vertical-align: middle;\n",
       "    }\n",
       "\n",
       "    .dataframe tbody tr th {\n",
       "        vertical-align: top;\n",
       "    }\n",
       "\n",
       "    .dataframe thead th {\n",
       "        text-align: right;\n",
       "    }\n",
       "</style>\n",
       "<table border=\"1\" class=\"dataframe\">\n",
       "  <thead>\n",
       "    <tr style=\"text-align: right;\">\n",
       "      <th></th>\n",
       "      <th>Id</th>\n",
       "      <th>MSSubClass</th>\n",
       "      <th>LotFrontage</th>\n",
       "      <th>LotArea</th>\n",
       "      <th>MasVnrArea</th>\n",
       "      <th>BsmtFinSF1</th>\n",
       "      <th>BsmtFinSF2</th>\n",
       "      <th>BsmtUnfSF</th>\n",
       "      <th>TotalBsmtSF</th>\n",
       "      <th>1stFlrSF</th>\n",
       "      <th>...</th>\n",
       "      <th>GarageType</th>\n",
       "      <th>GarageFinish</th>\n",
       "      <th>GarageQual</th>\n",
       "      <th>GarageCond</th>\n",
       "      <th>PavedDrive</th>\n",
       "      <th>PoolQC</th>\n",
       "      <th>Fence</th>\n",
       "      <th>MiscFeature</th>\n",
       "      <th>SaleType</th>\n",
       "      <th>SaleCondition</th>\n",
       "    </tr>\n",
       "  </thead>\n",
       "  <tbody>\n",
       "    <tr>\n",
       "      <th>0</th>\n",
       "      <td>1</td>\n",
       "      <td>60</td>\n",
       "      <td>65.0</td>\n",
       "      <td>8450</td>\n",
       "      <td>196.0</td>\n",
       "      <td>706.0</td>\n",
       "      <td>0.0</td>\n",
       "      <td>150.0</td>\n",
       "      <td>856.0</td>\n",
       "      <td>856</td>\n",
       "      <td>...</td>\n",
       "      <td>1</td>\n",
       "      <td>1</td>\n",
       "      <td>4</td>\n",
       "      <td>4</td>\n",
       "      <td>2</td>\n",
       "      <td>3</td>\n",
       "      <td>4</td>\n",
       "      <td>4</td>\n",
       "      <td>8</td>\n",
       "      <td>4</td>\n",
       "    </tr>\n",
       "    <tr>\n",
       "      <th>1</th>\n",
       "      <td>2</td>\n",
       "      <td>20</td>\n",
       "      <td>80.0</td>\n",
       "      <td>9600</td>\n",
       "      <td>0.0</td>\n",
       "      <td>978.0</td>\n",
       "      <td>0.0</td>\n",
       "      <td>284.0</td>\n",
       "      <td>1262.0</td>\n",
       "      <td>1262</td>\n",
       "      <td>...</td>\n",
       "      <td>1</td>\n",
       "      <td>1</td>\n",
       "      <td>4</td>\n",
       "      <td>4</td>\n",
       "      <td>2</td>\n",
       "      <td>3</td>\n",
       "      <td>4</td>\n",
       "      <td>4</td>\n",
       "      <td>8</td>\n",
       "      <td>4</td>\n",
       "    </tr>\n",
       "    <tr>\n",
       "      <th>2</th>\n",
       "      <td>3</td>\n",
       "      <td>60</td>\n",
       "      <td>68.0</td>\n",
       "      <td>11250</td>\n",
       "      <td>162.0</td>\n",
       "      <td>486.0</td>\n",
       "      <td>0.0</td>\n",
       "      <td>434.0</td>\n",
       "      <td>920.0</td>\n",
       "      <td>920</td>\n",
       "      <td>...</td>\n",
       "      <td>1</td>\n",
       "      <td>1</td>\n",
       "      <td>4</td>\n",
       "      <td>4</td>\n",
       "      <td>2</td>\n",
       "      <td>3</td>\n",
       "      <td>4</td>\n",
       "      <td>4</td>\n",
       "      <td>8</td>\n",
       "      <td>4</td>\n",
       "    </tr>\n",
       "    <tr>\n",
       "      <th>3</th>\n",
       "      <td>4</td>\n",
       "      <td>70</td>\n",
       "      <td>60.0</td>\n",
       "      <td>9550</td>\n",
       "      <td>0.0</td>\n",
       "      <td>216.0</td>\n",
       "      <td>0.0</td>\n",
       "      <td>540.0</td>\n",
       "      <td>756.0</td>\n",
       "      <td>961</td>\n",
       "      <td>...</td>\n",
       "      <td>5</td>\n",
       "      <td>2</td>\n",
       "      <td>4</td>\n",
       "      <td>4</td>\n",
       "      <td>2</td>\n",
       "      <td>3</td>\n",
       "      <td>4</td>\n",
       "      <td>4</td>\n",
       "      <td>8</td>\n",
       "      <td>0</td>\n",
       "    </tr>\n",
       "    <tr>\n",
       "      <th>4</th>\n",
       "      <td>5</td>\n",
       "      <td>60</td>\n",
       "      <td>84.0</td>\n",
       "      <td>14260</td>\n",
       "      <td>350.0</td>\n",
       "      <td>655.0</td>\n",
       "      <td>0.0</td>\n",
       "      <td>490.0</td>\n",
       "      <td>1145.0</td>\n",
       "      <td>1145</td>\n",
       "      <td>...</td>\n",
       "      <td>1</td>\n",
       "      <td>1</td>\n",
       "      <td>4</td>\n",
       "      <td>4</td>\n",
       "      <td>2</td>\n",
       "      <td>3</td>\n",
       "      <td>4</td>\n",
       "      <td>4</td>\n",
       "      <td>8</td>\n",
       "      <td>4</td>\n",
       "    </tr>\n",
       "  </tbody>\n",
       "</table>\n",
       "<p>5 rows × 81 columns</p>\n",
       "</div>"
      ],
      "text/plain": [
       "   Id  MSSubClass  LotFrontage  LotArea  MasVnrArea  BsmtFinSF1  BsmtFinSF2  \\\n",
       "0   1          60         65.0     8450       196.0       706.0         0.0   \n",
       "1   2          20         80.0     9600         0.0       978.0         0.0   \n",
       "2   3          60         68.0    11250       162.0       486.0         0.0   \n",
       "3   4          70         60.0     9550         0.0       216.0         0.0   \n",
       "4   5          60         84.0    14260       350.0       655.0         0.0   \n",
       "\n",
       "   BsmtUnfSF  TotalBsmtSF  1stFlrSF  ...  GarageType  GarageFinish  \\\n",
       "0      150.0        856.0       856  ...           1             1   \n",
       "1      284.0       1262.0      1262  ...           1             1   \n",
       "2      434.0        920.0       920  ...           1             1   \n",
       "3      540.0        756.0       961  ...           5             2   \n",
       "4      490.0       1145.0      1145  ...           1             1   \n",
       "\n",
       "   GarageQual  GarageCond  PavedDrive  PoolQC  Fence  MiscFeature  SaleType  \\\n",
       "0           4           4           2       3      4            4         8   \n",
       "1           4           4           2       3      4            4         8   \n",
       "2           4           4           2       3      4            4         8   \n",
       "3           4           4           2       3      4            4         8   \n",
       "4           4           4           2       3      4            4         8   \n",
       "\n",
       "   SaleCondition  \n",
       "0              4  \n",
       "1              4  \n",
       "2              4  \n",
       "3              0  \n",
       "4              4  \n",
       "\n",
       "[5 rows x 81 columns]"
      ]
     },
     "execution_count": 43,
     "metadata": {},
     "output_type": "execute_result"
    }
   ],
   "source": [
    "combineddf.head()"
   ]
  },
  {
   "cell_type": "code",
   "execution_count": 44,
   "id": "1f2fa47a",
   "metadata": {},
   "outputs": [],
   "source": [
    "combineddf=combineddf.drop('Id',axis=1)"
   ]
  },
  {
   "cell_type": "code",
   "execution_count": 45,
   "id": "e56ad9e1",
   "metadata": {},
   "outputs": [
    {
     "data": {
      "text/html": [
       "<div>\n",
       "<style scoped>\n",
       "    .dataframe tbody tr th:only-of-type {\n",
       "        vertical-align: middle;\n",
       "    }\n",
       "\n",
       "    .dataframe tbody tr th {\n",
       "        vertical-align: top;\n",
       "    }\n",
       "\n",
       "    .dataframe thead th {\n",
       "        text-align: right;\n",
       "    }\n",
       "</style>\n",
       "<table border=\"1\" class=\"dataframe\">\n",
       "  <thead>\n",
       "    <tr style=\"text-align: right;\">\n",
       "      <th></th>\n",
       "      <th>MSSubClass</th>\n",
       "      <th>LotFrontage</th>\n",
       "      <th>LotArea</th>\n",
       "      <th>MasVnrArea</th>\n",
       "      <th>BsmtFinSF1</th>\n",
       "      <th>BsmtFinSF2</th>\n",
       "      <th>BsmtUnfSF</th>\n",
       "      <th>TotalBsmtSF</th>\n",
       "      <th>1stFlrSF</th>\n",
       "      <th>2ndFlrSF</th>\n",
       "      <th>...</th>\n",
       "      <th>GarageType</th>\n",
       "      <th>GarageFinish</th>\n",
       "      <th>GarageQual</th>\n",
       "      <th>GarageCond</th>\n",
       "      <th>PavedDrive</th>\n",
       "      <th>PoolQC</th>\n",
       "      <th>Fence</th>\n",
       "      <th>MiscFeature</th>\n",
       "      <th>SaleType</th>\n",
       "      <th>SaleCondition</th>\n",
       "    </tr>\n",
       "  </thead>\n",
       "  <tbody>\n",
       "    <tr>\n",
       "      <th>0</th>\n",
       "      <td>60</td>\n",
       "      <td>65.0</td>\n",
       "      <td>8450</td>\n",
       "      <td>196.0</td>\n",
       "      <td>706.0</td>\n",
       "      <td>0.0</td>\n",
       "      <td>150.0</td>\n",
       "      <td>856.0</td>\n",
       "      <td>856</td>\n",
       "      <td>854</td>\n",
       "      <td>...</td>\n",
       "      <td>1</td>\n",
       "      <td>1</td>\n",
       "      <td>4</td>\n",
       "      <td>4</td>\n",
       "      <td>2</td>\n",
       "      <td>3</td>\n",
       "      <td>4</td>\n",
       "      <td>4</td>\n",
       "      <td>8</td>\n",
       "      <td>4</td>\n",
       "    </tr>\n",
       "    <tr>\n",
       "      <th>1</th>\n",
       "      <td>20</td>\n",
       "      <td>80.0</td>\n",
       "      <td>9600</td>\n",
       "      <td>0.0</td>\n",
       "      <td>978.0</td>\n",
       "      <td>0.0</td>\n",
       "      <td>284.0</td>\n",
       "      <td>1262.0</td>\n",
       "      <td>1262</td>\n",
       "      <td>0</td>\n",
       "      <td>...</td>\n",
       "      <td>1</td>\n",
       "      <td>1</td>\n",
       "      <td>4</td>\n",
       "      <td>4</td>\n",
       "      <td>2</td>\n",
       "      <td>3</td>\n",
       "      <td>4</td>\n",
       "      <td>4</td>\n",
       "      <td>8</td>\n",
       "      <td>4</td>\n",
       "    </tr>\n",
       "    <tr>\n",
       "      <th>2</th>\n",
       "      <td>60</td>\n",
       "      <td>68.0</td>\n",
       "      <td>11250</td>\n",
       "      <td>162.0</td>\n",
       "      <td>486.0</td>\n",
       "      <td>0.0</td>\n",
       "      <td>434.0</td>\n",
       "      <td>920.0</td>\n",
       "      <td>920</td>\n",
       "      <td>866</td>\n",
       "      <td>...</td>\n",
       "      <td>1</td>\n",
       "      <td>1</td>\n",
       "      <td>4</td>\n",
       "      <td>4</td>\n",
       "      <td>2</td>\n",
       "      <td>3</td>\n",
       "      <td>4</td>\n",
       "      <td>4</td>\n",
       "      <td>8</td>\n",
       "      <td>4</td>\n",
       "    </tr>\n",
       "    <tr>\n",
       "      <th>3</th>\n",
       "      <td>70</td>\n",
       "      <td>60.0</td>\n",
       "      <td>9550</td>\n",
       "      <td>0.0</td>\n",
       "      <td>216.0</td>\n",
       "      <td>0.0</td>\n",
       "      <td>540.0</td>\n",
       "      <td>756.0</td>\n",
       "      <td>961</td>\n",
       "      <td>756</td>\n",
       "      <td>...</td>\n",
       "      <td>5</td>\n",
       "      <td>2</td>\n",
       "      <td>4</td>\n",
       "      <td>4</td>\n",
       "      <td>2</td>\n",
       "      <td>3</td>\n",
       "      <td>4</td>\n",
       "      <td>4</td>\n",
       "      <td>8</td>\n",
       "      <td>0</td>\n",
       "    </tr>\n",
       "    <tr>\n",
       "      <th>4</th>\n",
       "      <td>60</td>\n",
       "      <td>84.0</td>\n",
       "      <td>14260</td>\n",
       "      <td>350.0</td>\n",
       "      <td>655.0</td>\n",
       "      <td>0.0</td>\n",
       "      <td>490.0</td>\n",
       "      <td>1145.0</td>\n",
       "      <td>1145</td>\n",
       "      <td>1053</td>\n",
       "      <td>...</td>\n",
       "      <td>1</td>\n",
       "      <td>1</td>\n",
       "      <td>4</td>\n",
       "      <td>4</td>\n",
       "      <td>2</td>\n",
       "      <td>3</td>\n",
       "      <td>4</td>\n",
       "      <td>4</td>\n",
       "      <td>8</td>\n",
       "      <td>4</td>\n",
       "    </tr>\n",
       "  </tbody>\n",
       "</table>\n",
       "<p>5 rows × 80 columns</p>\n",
       "</div>"
      ],
      "text/plain": [
       "   MSSubClass  LotFrontage  LotArea  MasVnrArea  BsmtFinSF1  BsmtFinSF2  \\\n",
       "0          60         65.0     8450       196.0       706.0         0.0   \n",
       "1          20         80.0     9600         0.0       978.0         0.0   \n",
       "2          60         68.0    11250       162.0       486.0         0.0   \n",
       "3          70         60.0     9550         0.0       216.0         0.0   \n",
       "4          60         84.0    14260       350.0       655.0         0.0   \n",
       "\n",
       "   BsmtUnfSF  TotalBsmtSF  1stFlrSF  2ndFlrSF  ...  GarageType  GarageFinish  \\\n",
       "0      150.0        856.0       856       854  ...           1             1   \n",
       "1      284.0       1262.0      1262         0  ...           1             1   \n",
       "2      434.0        920.0       920       866  ...           1             1   \n",
       "3      540.0        756.0       961       756  ...           5             2   \n",
       "4      490.0       1145.0      1145      1053  ...           1             1   \n",
       "\n",
       "   GarageQual  GarageCond  PavedDrive  PoolQC  Fence  MiscFeature  SaleType  \\\n",
       "0           4           4           2       3      4            4         8   \n",
       "1           4           4           2       3      4            4         8   \n",
       "2           4           4           2       3      4            4         8   \n",
       "3           4           4           2       3      4            4         8   \n",
       "4           4           4           2       3      4            4         8   \n",
       "\n",
       "   SaleCondition  \n",
       "0              4  \n",
       "1              4  \n",
       "2              4  \n",
       "3              0  \n",
       "4              4  \n",
       "\n",
       "[5 rows x 80 columns]"
      ]
     },
     "execution_count": 45,
     "metadata": {},
     "output_type": "execute_result"
    }
   ],
   "source": [
    "combineddf.head()"
   ]
  },
  {
   "cell_type": "code",
   "execution_count": 46,
   "id": "244aedd0",
   "metadata": {},
   "outputs": [
    {
     "data": {
      "text/plain": [
       "1454    test\n",
       "1455    test\n",
       "1456    test\n",
       "1457    test\n",
       "1458    test\n",
       "Name: Saleprice, dtype: object"
      ]
     },
     "execution_count": 46,
     "metadata": {},
     "output_type": "execute_result"
    }
   ],
   "source": [
    "combineddf.Saleprice.tail()"
   ]
  },
  {
   "cell_type": "code",
   "execution_count": 47,
   "id": "e05bc4a1",
   "metadata": {},
   "outputs": [],
   "source": [
    "housetraindf=combineddf[combineddf.Saleprice!='test']\n",
    "housetestdf=combineddf[combineddf.Saleprice=='test']"
   ]
  },
  {
   "cell_type": "code",
   "execution_count": 48,
   "id": "ee7330fd",
   "metadata": {},
   "outputs": [
    {
     "data": {
      "text/plain": [
       "dtype('O')"
      ]
     },
     "execution_count": 48,
     "metadata": {},
     "output_type": "execute_result"
    }
   ],
   "source": [
    "housetraindf.Saleprice.dtypes"
   ]
  },
  {
   "cell_type": "code",
   "execution_count": 49,
   "id": "7252816e",
   "metadata": {},
   "outputs": [],
   "source": [
    "housetraindf.Saleprice=pd.to_numeric(housetraindf.Saleprice)"
   ]
  },
  {
   "cell_type": "code",
   "execution_count": 50,
   "id": "eb5789fc",
   "metadata": {},
   "outputs": [],
   "source": [
    "housetestdf=housetestdf.drop('Saleprice',axis=1)"
   ]
  },
  {
   "cell_type": "code",
   "execution_count": 51,
   "id": "2849b137",
   "metadata": {},
   "outputs": [],
   "source": [
    "y=housetraindf.Saleprice"
   ]
  },
  {
   "cell_type": "code",
   "execution_count": 52,
   "id": "2119c3a6",
   "metadata": {},
   "outputs": [
    {
     "data": {
      "image/png": "[encoded data removed]",
      "text/plain": [
       "<Figure size 720x576 with 1 Axes>"
      ]
     },
     "metadata": {},
     "output_type": "display_data"
    }
   ],
   "source": [
    "sns.set_style('darkgrid')\n",
    "plt.figure(figsize=(10,8))\n",
    "sns.distplot(y,kde=True,color='red')\n",
    "plt.title(\"Distribution of SalePrice\",fontsize=15)\n",
    "plt.xlabel('SalePrice',fontsize=14)\n",
    "plt.ylabel('Density',fontsize=14)\n",
    "plt.show()"
   ]
  },
  {
   "cell_type": "code",
   "execution_count": 53,
   "id": "b7e42bf2",
   "metadata": {},
   "outputs": [],
   "source": [
    "X=housetraindf.drop('Saleprice',axis=1)"
   ]
  },
  {
   "cell_type": "code",
   "execution_count": 54,
   "id": "c53774dd",
   "metadata": {},
   "outputs": [
    {
     "data": {
      "text/plain": [
       "Index(['MSSubClass', 'LotFrontage', 'LotArea', 'MasVnrArea', 'BsmtFinSF1',\n",
       "       'BsmtFinSF2', 'BsmtUnfSF', 'TotalBsmtSF', '1stFlrSF', '2ndFlrSF',\n",
       "       'LowQualFinSF', 'GrLivArea', 'BsmtFullBath', 'BsmtHalfBath', 'FullBath',\n",
       "       'HalfBath', 'BedroomAbvGr', 'KitchenAbvGr', 'TotRmsAbvGrd',\n",
       "       'Fireplaces', 'GarageCars', 'GarageArea', 'WoodDeckSF', 'OpenPorchSF',\n",
       "       'EnclosedPorch', '3SsnPorch', 'ScreenPorch', 'PoolArea', 'MiscVal',\n",
       "       'OverallQual', 'OverallCond', 'YearBuilt', 'YearRemodAdd', 'MoSold',\n",
       "       'YrSold', 'GarageYrBlt', 'MSZoning', 'Street', 'Alley', 'LotShape',\n",
       "       'LandContour', 'Utilities', 'LotConfig', 'LandSlope', 'Neighborhood',\n",
       "       'Condition1', 'Condition2', 'BldgType', 'HouseStyle', 'RoofStyle',\n",
       "       'RoofMatl', 'Exterior1st', 'Exterior2nd', 'MasVnrType', 'ExterQual',\n",
       "       'ExterCond', 'Foundation', 'BsmtQual', 'BsmtCond', 'BsmtExposure',\n",
       "       'BsmtFinType1', 'BsmtFinType2', 'Heating', 'HeatingQC', 'CentralAir',\n",
       "       'Electrical', 'KitchenQual', 'Functional', 'FireplaceQu', 'GarageType',\n",
       "       'GarageFinish', 'GarageQual', 'GarageCond', 'PavedDrive', 'PoolQC',\n",
       "       'Fence', 'MiscFeature', 'SaleType', 'SaleCondition'],\n",
       "      dtype='object')"
      ]
     },
     "execution_count": 54,
     "metadata": {},
     "output_type": "execute_result"
    }
   ],
   "source": [
    "X.columns"
   ]
  },
  {
   "cell_type": "code",
   "execution_count": 55,
   "id": "7d35452c",
   "metadata": {},
   "outputs": [],
   "source": [
    "from sklearn.linear_model import LinearRegression"
   ]
  },
  {
   "cell_type": "code",
   "execution_count": 56,
   "id": "ab152a32",
   "metadata": {},
   "outputs": [],
   "source": [
    "regmodel=LinearRegression()"
   ]
  },
  {
   "cell_type": "code",
   "execution_count": 57,
   "id": "56eec2ad",
   "metadata": {},
   "outputs": [],
   "source": [
    "linmodel=regmodel.fit(X,y)"
   ]
  },
  {
   "cell_type": "code",
   "execution_count": 58,
   "id": "8bbd79ae",
   "metadata": {},
   "outputs": [
    {
     "data": {
      "text/plain": [
       "0.8545357896437559"
      ]
     },
     "execution_count": 58,
     "metadata": {},
     "output_type": "execute_result"
    }
   ],
   "source": [
    "linmodel.score(X,y)"
   ]
  },
  {
   "cell_type": "code",
   "execution_count": 59,
   "id": "fe662dfa",
   "metadata": {},
   "outputs": [],
   "source": [
    "linpredicit=linmodel.predict(X)"
   ]
  },
  {
   "cell_type": "code",
   "execution_count": 60,
   "id": "fb4cfe08",
   "metadata": {},
   "outputs": [
    {
     "data": {
      "text/plain": [
       "array([216175.4659985 , 200689.03783907, 219198.46253894, ...,\n",
       "       246434.70668931, 150606.73367785, 160603.35990488])"
      ]
     },
     "execution_count": 60,
     "metadata": {},
     "output_type": "execute_result"
    }
   ],
   "source": [
    "linpredicit"
   ]
  },
  {
   "cell_type": "code",
   "execution_count": 61,
   "id": "87020a96",
   "metadata": {},
   "outputs": [],
   "source": [
    "resdiuals=y-linpredicit"
   ]
  },
  {
   "cell_type": "code",
   "execution_count": 62,
   "id": "5cb70df1",
   "metadata": {},
   "outputs": [
    {
     "name": "stdout",
     "output_type": "stream",
     "text": [
      "float64\n"
     ]
    }
   ],
   "source": [
    "resdiuals.head()\n",
    "print(resdiuals.dtype)"
   ]
  },
  {
   "cell_type": "code",
   "execution_count": 63,
   "id": "ba530d03",
   "metadata": {},
   "outputs": [
    {
     "data": {
      "text/plain": [
       "dtype('int64')"
      ]
     },
     "execution_count": 63,
     "metadata": {},
     "output_type": "execute_result"
    }
   ],
   "source": [
    "y.dtype"
   ]
  },
  {
   "cell_type": "code",
   "execution_count": 64,
   "id": "880abe3b",
   "metadata": {},
   "outputs": [
    {
     "name": "stdout",
     "output_type": "stream",
     "text": [
      "30288.810168965225\n"
     ]
    }
   ],
   "source": [
    "rmse=np.sqrt(np.mean(resdiuals**2))\n",
    "print(rmse)"
   ]
  },
  {
   "cell_type": "code",
   "execution_count": 65,
   "id": "339d7012",
   "metadata": {},
   "outputs": [],
   "source": [
    "testpred=linmodel.predict(housetestdf)"
   ]
  },
  {
   "cell_type": "code",
   "execution_count": 66,
   "id": "863307aa",
   "metadata": {},
   "outputs": [
    {
     "data": {
      "text/plain": [
       "array([107216.74953258, 157117.97328593, 166969.41007551, 183955.41088236,\n",
       "       188983.31844405, 172580.29838373, 184158.95956767, 163065.79938665])"
      ]
     },
     "execution_count": 66,
     "metadata": {},
     "output_type": "execute_result"
    }
   ],
   "source": [
    "testpred[:8]"
   ]
  },
  {
   "cell_type": "code",
   "execution_count": 67,
   "id": "8b1ada10",
   "metadata": {},
   "outputs": [],
   "source": [
    "logy=np.log(y)"
   ]
  },
  {
   "cell_type": "code",
   "execution_count": 68,
   "id": "ca951991",
   "metadata": {},
   "outputs": [
    {
     "data": {
      "text/plain": [
       "0    12.247694\n",
       "1    12.109011\n",
       "2    12.317167\n",
       "3    11.849398\n",
       "4    12.429216\n",
       "Name: Saleprice, dtype: float64"
      ]
     },
     "execution_count": 68,
     "metadata": {},
     "output_type": "execute_result"
    }
   ],
   "source": [
    "logy[:5]"
   ]
  },
  {
   "cell_type": "code",
   "execution_count": 69,
   "id": "0c36aebd",
   "metadata": {},
   "outputs": [
    {
     "data": {
      "text/plain": [
       "dtype('float64')"
      ]
     },
     "execution_count": 69,
     "metadata": {},
     "output_type": "execute_result"
    }
   ],
   "source": [
    "logy.dtype"
   ]
  },
  {
   "cell_type": "code",
   "execution_count": 70,
   "id": "a812e37f",
   "metadata": {},
   "outputs": [],
   "source": [
    "logyfit=linmodel.fit(X,logy)"
   ]
  },
  {
   "cell_type": "code",
   "execution_count": 71,
   "id": "1b869479",
   "metadata": {},
   "outputs": [
    {
     "data": {
      "text/plain": [
       "0.8878854874818258"
      ]
     },
     "execution_count": 71,
     "metadata": {},
     "output_type": "execute_result"
    }
   ],
   "source": [
    "logyfit.score(X,logy)"
   ]
  },
  {
   "cell_type": "code",
   "execution_count": 72,
   "id": "2f515953",
   "metadata": {},
   "outputs": [],
   "source": [
    "logypredict=logyfit.predict(X)"
   ]
  },
  {
   "cell_type": "code",
   "execution_count": 73,
   "id": "79e3499d",
   "metadata": {},
   "outputs": [
    {
     "data": {
      "text/plain": [
       "array([12.22989163, 12.2049298 , 12.2810953 , 12.00094758, 12.6037632 ,\n",
       "       11.98802267])"
      ]
     },
     "execution_count": 73,
     "metadata": {},
     "output_type": "execute_result"
    }
   ],
   "source": [
    "logypredict[:6]"
   ]
  },
  {
   "cell_type": "code",
   "execution_count": 74,
   "id": "4340ec89",
   "metadata": {},
   "outputs": [],
   "source": [
    "pred1=np.exp(logypredict)"
   ]
  },
  {
   "cell_type": "code",
   "execution_count": 75,
   "id": "01d1c290",
   "metadata": {},
   "outputs": [
    {
     "data": {
      "text/plain": [
       "array([204820.98372642, 199771.56144535, 215581.71449464, 162909.08819313])"
      ]
     },
     "execution_count": 75,
     "metadata": {},
     "output_type": "execute_result"
    }
   ],
   "source": [
    "pred1[:4]"
   ]
  },
  {
   "cell_type": "code",
   "execution_count": 76,
   "id": "31763c0b",
   "metadata": {},
   "outputs": [],
   "source": [
    "logpred=logyfit.predict(housetestdf)"
   ]
  },
  {
   "cell_type": "code",
   "execution_count": 77,
   "id": "dbab4429",
   "metadata": {},
   "outputs": [],
   "source": [
    "predlog2=np.exp(logpred)"
   ]
  },
  {
   "cell_type": "code",
   "execution_count": 78,
   "id": "11221762",
   "metadata": {},
   "outputs": [
    {
     "data": {
      "text/plain": [
       "array([116450.96663519, 156588.42332387, 165966.4181693 , 195641.9103168 ,\n",
       "       186049.88018995, 171748.88172337])"
      ]
     },
     "execution_count": 78,
     "metadata": {},
     "output_type": "execute_result"
    }
   ],
   "source": [
    "predlog2[:6]"
   ]
  },
  {
   "cell_type": "code",
   "execution_count": 79,
   "id": "48326ce0",
   "metadata": {},
   "outputs": [],
   "source": [
    "res1=y-pred1"
   ]
  },
  {
   "cell_type": "code",
   "execution_count": 80,
   "id": "69e581af",
   "metadata": {},
   "outputs": [
    {
     "data": {
      "text/plain": [
       "31804.053974061833"
      ]
     },
     "execution_count": 80,
     "metadata": {},
     "output_type": "execute_result"
    }
   ],
   "source": [
    "np.sqrt(np.mean(res1**2))"
   ]
  },
  {
   "cell_type": "code",
   "execution_count": 81,
   "id": "0d7c7549",
   "metadata": {},
   "outputs": [
    {
     "data": {
      "image/png": "[encoded data removed]",
      "text/plain": [
       "<Figure size 720x576 with 1 Axes>"
      ]
     },
     "metadata": {},
     "output_type": "display_data"
    }
   ],
   "source": [
    "sns.set_style('darkgrid')\n",
    "plt.figure(figsize=(10,8))\n",
    "sns.distplot(logy,kde=True,color='red')\n",
    "plt.title(\"Distribution of SalePrice\",fontsize=15)\n",
    "plt.xlabel('SalePrice',fontsize=14)\n",
    "plt.ylabel('Density',fontsize=14)\n",
    "plt.show()"
   ]
  },
  {
   "cell_type": "code",
   "execution_count": 82,
   "id": "1c2d5f2d",
   "metadata": {},
   "outputs": [],
   "source": [
    "sqrty=np.sqrt(y)"
   ]
  },
  {
   "cell_type": "code",
   "execution_count": 83,
   "id": "32e041a7",
   "metadata": {},
   "outputs": [
    {
     "data": {
      "image/png": "[encoded data removed]",
      "text/plain": [
       "<Figure size 720x576 with 1 Axes>"
      ]
     },
     "metadata": {},
     "output_type": "display_data"
    }
   ],
   "source": [
    "sns.set_style('darkgrid')\n",
    "plt.figure(figsize=(10,8))\n",
    "sns.distplot(y,kde=True,color='red')\n",
    "plt.title(\"Distribution of SalePrice\",fontsize=15)\n",
    "plt.xlabel('SalePrice',fontsize=14)\n",
    "plt.ylabel('Density',fontsize=14)\n",
    "plt.show()"
   ]
  },
  {
   "cell_type": "code",
   "execution_count": 84,
   "id": "2cb7f2d8",
   "metadata": {},
   "outputs": [],
   "source": [
    "sqrtyfit=linmodel.fit(X,sqrty)"
   ]
  },
  {
   "cell_type": "code",
   "execution_count": 85,
   "id": "380d9a8c",
   "metadata": {},
   "outputs": [
    {
     "data": {
      "text/plain": [
       "0.8859015114774657"
      ]
     },
     "execution_count": 85,
     "metadata": {},
     "output_type": "execute_result"
    }
   ],
   "source": [
    "sqrtyfit.score(X,sqrty)"
   ]
  },
  {
   "cell_type": "code",
   "execution_count": 86,
   "id": "b9a2b16a",
   "metadata": {},
   "outputs": [],
   "source": [
    "sqrtypred=sqrtyfit.predict(X)"
   ]
  },
  {
   "cell_type": "code",
   "execution_count": 87,
   "id": "2e1b582c",
   "metadata": {},
   "outputs": [
    {
     "data": {
      "text/plain": [
       "array([458.67271499, 445.62068705, 466.42634799])"
      ]
     },
     "execution_count": 87,
     "metadata": {},
     "output_type": "execute_result"
    }
   ],
   "source": [
    "sqrtypred[:3]"
   ]
  },
  {
   "cell_type": "code",
   "execution_count": 88,
   "id": "bd2bf308",
   "metadata": {},
   "outputs": [],
   "source": [
    "prd2=np.square(sqrtypred)"
   ]
  },
  {
   "cell_type": "code",
   "execution_count": 89,
   "id": "c16e5547",
   "metadata": {},
   "outputs": [],
   "source": [
    "res2=y-prd2"
   ]
  },
  {
   "cell_type": "code",
   "execution_count": 90,
   "id": "6433bbf4",
   "metadata": {},
   "outputs": [
    {
     "data": {
      "text/plain": [
       "29218.366387484006"
      ]
     },
     "execution_count": 90,
     "metadata": {},
     "output_type": "execute_result"
    }
   ],
   "source": [
    "np.sqrt(np.mean(res2**2))"
   ]
  },
  {
   "cell_type": "code",
   "execution_count": 91,
   "id": "6e1cb960",
   "metadata": {},
   "outputs": [],
   "source": [
    "sqrtestpred=sqrtyfit.predict(housetestdf)"
   ]
  },
  {
   "cell_type": "code",
   "execution_count": 92,
   "id": "b9bf41b0",
   "metadata": {},
   "outputs": [],
   "source": [
    "testpredsqrt=np.square(sqrtestpred)"
   ]
  },
  {
   "cell_type": "code",
   "execution_count": 93,
   "id": "7a859e79",
   "metadata": {},
   "outputs": [
    {
     "data": {
      "text/plain": [
       "array([113887.89501604, 157454.67412151, 166827.08623287, 190134.88699206,\n",
       "       187494.18707403, 172775.38698703])"
      ]
     },
     "execution_count": 93,
     "metadata": {},
     "output_type": "execute_result"
    }
   ],
   "source": [
    "testpredsqrt[:6]"
   ]
  },
  {
   "cell_type": "code",
   "execution_count": 94,
   "id": "d9cbe40f",
   "metadata": {},
   "outputs": [],
   "source": [
    "pd.DataFrame(testpredsqrt).to_csv('housesqrpred.csv')"
   ]
  },
  {
   "cell_type": "code",
   "execution_count": 95,
   "id": "51ea4abe",
   "metadata": {},
   "outputs": [],
   "source": [
    "pd.DataFrame(pred1).to_csv('houselogpred.csv')"
   ]
  },
  {
   "cell_type": "code",
   "execution_count": null,
   "id": "2955d667",
   "metadata": {},
   "outputs": [],
   "source": []
  }
 ],
 "metadata": {
  "kernelspec": {
   "display_name": "Python 3 (ipykernel)",
   "language": "python",
   "name": "python3"
  },
  "language_info": {
   "codemirror_mode": {
    "name": "ipython",
    "version": 3
   },
   "file_extension": ".py",
   "mimetype": "text/x-python",
   "name": "python",
   "nbconvert_exporter": "python",
   "pygments_lexer": "ipython3",
   "version": "3.9.7"
  }
 },
 "nbformat": 4,
 "nbformat_minor": 5
}
